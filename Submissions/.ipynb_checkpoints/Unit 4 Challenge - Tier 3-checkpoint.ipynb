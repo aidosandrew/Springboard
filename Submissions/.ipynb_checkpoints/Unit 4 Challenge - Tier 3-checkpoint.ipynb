{
 "cells": [
  {
   "cell_type": "markdown",
   "metadata": {
    "colab_type": "text",
    "id": "Tia3MP1SJpgj"
   },
   "source": [
    "# Springboard Data Science Career Track Unit 4 Challenge - Tier 3 Complete\n",
    "\n",
    "## Objectives\n",
    "Hey! Great job getting through those challenging DataCamp courses. You're learning a lot in a short span of time. \n",
    "\n",
    "In this notebook, you're going to apply the skills you've been learning, bridging the gap between the controlled environment of DataCamp and the *slightly* messier work that data scientists do with actual datasets!\n",
    "\n",
    "Here’s the mystery we’re going to solve: ***which boroughs of London have seen the greatest increase in housing prices, on average, over the last two decades?***\n",
    "\n",
    "\n",
    "A borough is just a fancy word for district. You may be familiar with the five boroughs of New York… well, there are 32 boroughs within Greater London [(here's some info for the curious)](https://en.wikipedia.org/wiki/London_boroughs). Some of them are more desirable areas to live in, and the data will reflect that with a greater rise in housing prices.\n",
    "\n",
    "***This is the Tier 3 notebook, which means it's not filled in at all: we'll just give you the skeleton of a project, the brief and the data. It's up to you to play around with it and see what you can find out! Good luck! If you struggle, feel free to look at easier tiers for help; but try to dip in and out of them, as the more independent work you do, the better it is for your learning!***\n",
    "\n",
    "This challenge will make use of only what you learned in the following DataCamp courses: \n",
    "- Prework courses (Introduction to Python for Data Science, Intermediate Python for Data Science)\n",
    "- Data Types for Data Science\n",
    "- Python Data Science Toolbox (Part One) \n",
    "- pandas Foundations\n",
    "- Manipulating DataFrames with pandas\n",
    "- Merging DataFrames with pandas\n",
    "\n",
    "Of the tools, techniques and concepts in the above DataCamp courses, this challenge should require the application of the following: \n",
    "- **pandas**\n",
    "    - **data ingestion and inspection** (pandas Foundations, Module One) \n",
    "    - **exploratory data analysis** (pandas Foundations, Module Two)\n",
    "    - **tidying and cleaning** (Manipulating DataFrames with pandas, Module Three) \n",
    "    - **transforming DataFrames** (Manipulating DataFrames with pandas, Module One)\n",
    "    - **subsetting DataFrames with lists** (Manipulating DataFrames with pandas, Module One) \n",
    "    - **filtering DataFrames** (Manipulating DataFrames with pandas, Module One) \n",
    "    - **grouping data** (Manipulating DataFrames with pandas, Module Four) \n",
    "    - **melting data** (Manipulating DataFrames with pandas, Module Three) \n",
    "    - **advanced indexing** (Manipulating DataFrames with pandas, Module Four) \n",
    "- **matplotlib** (Intermediate Python for Data Science, Module One)\n",
    "- **fundamental data types** (Data Types for Data Science, Module One) \n",
    "- **dictionaries** (Intermediate Python for Data Science, Module Two)\n",
    "- **handling dates and times** (Data Types for Data Science, Module Four)\n",
    "- **function definition** (Python Data Science Toolbox - Part One, Module One)\n",
    "- **default arguments, variable length, and scope** (Python Data Science Toolbox - Part One, Module Two) \n",
    "- **lambda functions and error handling** (Python Data Science Toolbox - Part One, Module Four) "
   ]
  },
  {
   "cell_type": "markdown",
   "metadata": {
    "colab_type": "text",
    "id": "Ipgd2nV8Jpgl"
   },
   "source": [
    "## The Data Science Pipeline\n",
    "\n",
    "This is Tier Three, so we'll get you started. But after that, it's all in your hands! When you feel done with your investigations, look back over what you've accomplished, and prepare a quick presentation of your findings for the next mentor meeting. \n",
    "\n",
    "Data Science is magical. In this case study, you'll get to apply some complex machine learning algorithms. But as  [David Spiegelhalter](https://www.youtube.com/watch?v=oUs1uvsz0Ok) reminds us, there is no substitute for simply **taking a really, really good look at the data.** Sometimes, this is all we need to answer our question.\n",
    "\n",
    "Data Science projects generally adhere to the four stages of Data Science Pipeline:\n",
    "1. Sourcing and loading \n",
    "2. Cleaning, transforming, and visualizing \n",
    "3. Modeling \n",
    "4. Evaluating and concluding \n"
   ]
  },
  {
   "cell_type": "markdown",
   "metadata": {
    "colab_type": "text",
    "id": "zswDqbefJpgm"
   },
   "source": [
    "### 1. Sourcing and Loading \n",
    "\n",
    "Any Data Science project kicks off by importing  ***pandas***. The documentation of this wonderful library can be found [here](https://pandas.pydata.org/). As you've seen, pandas is conveniently connected to the [Numpy](http://www.numpy.org/) and [Matplotlib](https://matplotlib.org/) libraries. \n",
    "\n",
    "***Hint:*** This part of the data science pipeline will test those skills you acquired in the pandas Foundations course, Module One. "
   ]
  },
  {
   "cell_type": "markdown",
   "metadata": {
    "colab_type": "text",
    "id": "aEau5nEvJpgm"
   },
   "source": [
    "#### 1.1. Importing Libraries"
   ]
  },
  {
   "cell_type": "code",
   "execution_count": 1,
   "metadata": {
    "colab": {},
    "colab_type": "code",
    "id": "7Bt_Q_oPJpgn"
   },
   "outputs": [],
   "source": [
    "# Let's import the pandas, numpy libraries as pd, and np respectively. \n",
    "\n",
    "import pandas as pd\n",
    "import numpy as np\n",
    "\n",
    "# Load the pyplot collection of functions from matplotlib, as plt\n",
    "import matplotlib.pyplot as plt\n"
   ]
  },
  {
   "cell_type": "markdown",
   "metadata": {
    "colab_type": "text",
    "id": "koUrawxsJpgq"
   },
   "source": [
    "#### 1.2.  Loading the data\n",
    "Your data comes from the [London Datastore](https://data.london.gov.uk/): a free, open-source data-sharing portal for London-oriented datasets. "
   ]
  },
  {
   "cell_type": "code",
   "execution_count": 2,
   "metadata": {
    "colab": {},
    "colab_type": "code",
    "id": "AiLiD4v3Jpgr"
   },
   "outputs": [],
   "source": [
    "# First, make a variable called url_LondonHousePrices, and assign it the following link, enclosed in quotation-marks as a string:\n",
    "# https://data.london.gov.uk/download/uk-house-price-index/70ac0766-8902-4eb5-aab5-01951aaed773/UK%20House%20price%20index.xls\n",
    "\n",
    "url_LondonHousePrices = \"https://data.london.gov.uk/download/uk-house-price-index/70ac0766-8902-4eb5-aab5-01951aaed773/UK%20House%20price%20index.xls\"\n",
    "\n",
    "# The dataset we're interested in contains the Average prices of the houses, and is actually on a particular sheet of the Excel file. \n",
    "# As a result, we need to specify the sheet name in the read_excel() method.\n",
    "# Put this data into a variable called properties.  \n",
    "properties = pd.read_excel(url_LondonHousePrices, sheet_name='Average price', index_col= None)"
   ]
  },
  {
   "cell_type": "markdown",
   "metadata": {
    "colab_type": "text",
    "id": "POukEJXgJpgu"
   },
   "source": [
    "### 2. Cleaning, transforming, and visualizing\n",
    "This second stage is arguably the most important part of any Data Science project. The first thing to do is take a proper look at the data. Cleaning forms the majority of this stage, and can be done both before or after Transformation.\n",
    "\n",
    "The end goal of data cleaning is to have tidy data. When data is tidy: \n",
    "\n",
    "1. Each variable has a column.\n",
    "2. Each observation forms a row.\n",
    "\n",
    "Keep the end goal in mind as you move through this process, every step will take you closer. \n",
    "\n",
    "\n",
    "\n",
    "***Hint:*** This part of the data science pipeline should test those skills you acquired in: \n",
    "- Intermediate Python for data science, all modules.\n",
    "- pandas Foundations, all modules. \n",
    "- Manipulating DataFrames with pandas, all modules.\n",
    "- Data Types for Data Science, Module Four.\n",
    "- Python Data Science Toolbox - Part One, all modules"
   ]
  },
  {
   "cell_type": "markdown",
   "metadata": {
    "colab_type": "text",
    "id": "Te0Q548tnzZa"
   },
   "source": [
    "**2.1. Exploring your data** \n",
    "\n",
    "Think about your pandas functions for checking out a dataframe. "
   ]
  },
  {
   "cell_type": "code",
   "execution_count": 3,
   "metadata": {
    "colab": {},
    "colab_type": "code",
    "id": "Rxirxw_qoAJa"
   },
   "outputs": [
    {
     "name": "stdout",
     "output_type": "stream",
     "text": [
      "  Unnamed: 0 City of London Barking & Dagenham     Barnet     Bexley  \\\n",
      "0        NaT      E09000001          E09000002  E09000003  E09000004   \n",
      "1 1995-01-01          91449            50460.2    93284.5    64958.1   \n",
      "2 1995-02-01        82202.8            51085.8    93190.2    64787.9   \n",
      "3 1995-03-01        79120.7              51269    92247.5    64367.5   \n",
      "4 1995-04-01        77101.2            53133.5    90762.9    64277.7   \n",
      "5 1995-05-01        84409.1            53042.2      90258    63997.1   \n",
      "6 1995-06-01        94900.5            53700.3    90107.2    64252.3   \n",
      "7 1995-07-01         110128            52113.1    91441.2    63722.7   \n",
      "8 1995-08-01         112329            52232.2    92361.3    64432.6   \n",
      "9 1995-09-01         104473            51471.6    93273.1    64509.5   \n",
      "\n",
      "       Brent    Bromley     Camden    Croydon     Ealing  ... NORTH WEST  \\\n",
      "0  E09000005  E09000006  E09000007  E09000008  E09000009  ...  E12000002   \n",
      "1    71306.6    81671.5     120933    69158.2    79885.9  ...    43958.5   \n",
      "2    72022.3    81657.6     119509    68951.1    80897.1  ...    43925.4   \n",
      "3    72015.8    81449.3     120282    68712.4    81379.9  ...    44434.9   \n",
      "4    72965.6    81124.4     120098      68610    82188.9  ...    44267.8   \n",
      "5      73704    81542.6     119929    68844.9    82077.1  ...    44223.6   \n",
      "6    74310.5    82382.8     121887    69052.5    81630.7  ...      44113   \n",
      "7      74127    82898.5     124028    69142.5    82352.2  ...    44109.6   \n",
      "8      73547    82054.4     125530    68993.4    82706.7  ...    44193.7   \n",
      "9    73789.5    81440.4     120597    69393.5    82011.1  ...    44088.1   \n",
      "\n",
      "  YORKS & THE HUMBER EAST MIDLANDS WEST MIDLANDS EAST OF ENGLAND     LONDON  \\\n",
      "0          E12000003     E12000004     E12000005       E12000006  E12000007   \n",
      "1            44803.4       45544.5       48527.5         56701.6    74435.8   \n",
      "2            44528.8       46051.6       49341.3         56593.6    72777.9   \n",
      "3            45200.5       45383.8       49442.2         56171.2    73896.8   \n",
      "4            45614.3       46124.2       49455.9         56567.9    74455.3   \n",
      "5              44831         45878       50369.7         56479.8      75432   \n",
      "6            45392.6         45680       50100.4         56288.9    75606.2   \n",
      "7              45535       46037.7         49860         57242.3    75984.2   \n",
      "8            45111.5       45922.5       49598.5         56732.4    75529.3   \n",
      "9            44837.9       45771.7       49319.7         56259.3    74940.8   \n",
      "\n",
      "  SOUTH EAST SOUTH WEST Unnamed: 47    England  \n",
      "0  E12000008  E12000009         NaN  E92000001  \n",
      "1    64018.9    54705.2         NaN    53202.8  \n",
      "2      63715    54356.1         NaN    53096.2  \n",
      "3    64113.6    53583.1         NaN    53201.3  \n",
      "4    64623.2      54786         NaN    53590.9  \n",
      "5    64530.4    54698.8         NaN    53678.2  \n",
      "6      65511    54420.2         NaN    53735.2  \n",
      "7    65224.9    54265.9         NaN    53900.6  \n",
      "8    64851.6    54365.7         NaN    53600.3  \n",
      "9    64352.5      54244         NaN    53309.2  \n",
      "\n",
      "[10 rows x 49 columns]\n",
      "(304, 49)\n"
     ]
    }
   ],
   "source": [
    "print(properties.head(10))\n",
    "print(properties.shape)\n"
   ]
  },
  {
   "cell_type": "markdown",
   "metadata": {
    "colab_type": "text",
    "id": "tE9Sqt9-oAta"
   },
   "source": [
    "**2.2. Cleaning the data**\n",
    "\n",
    "You might find you need to transpose your dataframe, check out what its row indexes are, and reset the index. You  also might find you need to assign the values of the first row to your column headings  . (Hint: recall the .columns feature of DataFrames, as well as the iloc[] method).\n",
    "\n",
    "Don't be afraid to use StackOverflow for help  with this."
   ]
  },
  {
   "cell_type": "code",
   "execution_count": 4,
   "metadata": {
    "colab": {},
    "colab_type": "code",
    "id": "cdAu1A3YoH_r"
   },
   "outputs": [
    {
     "name": "stdout",
     "output_type": "stream",
     "text": [
      "Unnamed: 0               index        NaN 1995-01-01 00:00:00  \\\n",
      "0               City of London  E09000001               91449   \n",
      "1           Barking & Dagenham  E09000002             50460.2   \n",
      "2                       Barnet  E09000003             93284.5   \n",
      "3                       Bexley  E09000004             64958.1   \n",
      "4                        Brent  E09000005             71306.6   \n",
      "\n",
      "Unnamed: 0 1995-02-01 00:00:00 1995-03-01 00:00:00 1995-04-01 00:00:00  \\\n",
      "0                      82202.8             79120.7             77101.2   \n",
      "1                      51085.8               51269             53133.5   \n",
      "2                      93190.2             92247.5             90762.9   \n",
      "3                      64787.9             64367.5             64277.7   \n",
      "4                      72022.3             72015.8             72965.6   \n",
      "\n",
      "Unnamed: 0 1995-05-01 00:00:00 1995-06-01 00:00:00 1995-07-01 00:00:00  \\\n",
      "0                      84409.1             94900.5              110128   \n",
      "1                      53042.2             53700.3             52113.1   \n",
      "2                        90258             90107.2             91441.2   \n",
      "3                      63997.1             64252.3             63722.7   \n",
      "4                        73704             74310.5               74127   \n",
      "\n",
      "Unnamed: 0 1995-08-01 00:00:00  ... 2019-06-01 00:00:00 2019-07-01 00:00:00  \\\n",
      "0                       112329  ...              761526              756407   \n",
      "1                      52232.2  ...              293889              297426   \n",
      "2                      92361.3  ...              512694              514668   \n",
      "3                      64432.6  ...              339324              338346   \n",
      "4                        73547  ...              474821              473849   \n",
      "\n",
      "Unnamed: 0 2019-08-01 00:00:00 2019-09-01 00:00:00 2019-10-01 00:00:00  \\\n",
      "0                       813770              810455              826227   \n",
      "1                       299421              304778              304579   \n",
      "2                       528577              526670              525678   \n",
      "3                       337523              333340              332920   \n",
      "4                       488784              501533              494770   \n",
      "\n",
      "Unnamed: 0 2019-11-01 00:00:00 2019-12-01 00:00:00 2020-01-01 00:00:00  \\\n",
      "0                       776894              737275              757377   \n",
      "1                       306390              301283              304187   \n",
      "2                       522639              519306              520115   \n",
      "3                       333657              336302              334430   \n",
      "4                       432188              427126              424663   \n",
      "\n",
      "Unnamed: 0 2020-02-01 00:00:00 2020-03-01 00:00:00  \n",
      "0                       765416              792583  \n",
      "1                       304719              327136  \n",
      "2                       520966              532569  \n",
      "3                       334845              331679  \n",
      "4                       471574              446966  \n",
      "\n",
      "[5 rows x 305 columns]\n",
      "(48, 305)\n"
     ]
    }
   ],
   "source": [
    "properties = properties.transpose()\n",
    "new_header = properties.iloc[0]\n",
    "properties = properties[1:]\n",
    "properties.columns = new_header\n",
    "properties = properties.reset_index()\n",
    "\n",
    "print(properties.head(5))\n",
    "print(properties.shape)"
   ]
  },
  {
   "cell_type": "markdown",
   "metadata": {
    "colab_type": "text",
    "id": "o1uLbJAsoIjK"
   },
   "source": [
    "**2.3. Cleaning the data (part 2)**\n",
    "\n",
    "You might we have to **rename** a couple columns. How do you do this? The clue's pretty bold..."
   ]
  },
  {
   "cell_type": "code",
   "execution_count": 5,
   "metadata": {
    "colab": {},
    "colab_type": "code",
    "id": "GKkmn1AnoVZS"
   },
   "outputs": [
    {
     "name": "stdout",
     "output_type": "stream",
     "text": [
      "Unnamed: 0             Borough 1995-01-01 00:00:00 1995-02-01 00:00:00  \\\n",
      "1           Barking & Dagenham             50460.2             51085.8   \n",
      "2                       Barnet             93284.5             93190.2   \n",
      "3                       Bexley             64958.1             64787.9   \n",
      "4                        Brent             71306.6             72022.3   \n",
      "5                      Bromley             81671.5             81657.6   \n",
      "\n",
      "Unnamed: 0 1995-03-01 00:00:00 1995-04-01 00:00:00 1995-05-01 00:00:00  \\\n",
      "1                        51269             53133.5             53042.2   \n",
      "2                      92247.5             90762.9               90258   \n",
      "3                      64367.5             64277.7             63997.1   \n",
      "4                      72015.8             72965.6               73704   \n",
      "5                      81449.3             81124.4             81542.6   \n",
      "\n",
      "Unnamed: 0 1995-06-01 00:00:00 1995-07-01 00:00:00 1995-08-01 00:00:00  \\\n",
      "1                      53700.3             52113.1             52232.2   \n",
      "2                      90107.2             91441.2             92361.3   \n",
      "3                      64252.3             63722.7             64432.6   \n",
      "4                      74310.5               74127               73547   \n",
      "5                      82382.8             82898.5             82054.4   \n",
      "\n",
      "Unnamed: 0 1995-09-01 00:00:00  ... 2019-06-01 00:00:00 2019-07-01 00:00:00  \\\n",
      "1                      51471.6  ...              293889              297426   \n",
      "2                      93273.1  ...              512694              514668   \n",
      "3                      64509.5  ...              339324              338346   \n",
      "4                      73789.5  ...              474821              473849   \n",
      "5                      81440.4  ...              430002              434257   \n",
      "\n",
      "Unnamed: 0 2019-08-01 00:00:00 2019-09-01 00:00:00 2019-10-01 00:00:00  \\\n",
      "1                       299421              304778              304579   \n",
      "2                       528577              526670              525678   \n",
      "3                       337523              333340              332920   \n",
      "4                       488784              501533              494770   \n",
      "5                       442189              441058              439178   \n",
      "\n",
      "Unnamed: 0 2019-11-01 00:00:00 2019-12-01 00:00:00 2020-01-01 00:00:00  \\\n",
      "1                       306390              301283              304187   \n",
      "2                       522639              519306              520115   \n",
      "3                       333657              336302              334430   \n",
      "4                       432188              427126              424663   \n",
      "5                       436080              438682              435337   \n",
      "\n",
      "Unnamed: 0 2020-02-01 00:00:00 2020-03-01 00:00:00  \n",
      "1                       304719              327136  \n",
      "2                       520966              532569  \n",
      "3                       334845              331679  \n",
      "4                       471574              446966  \n",
      "5                       436544              430033  \n",
      "\n",
      "[5 rows x 304 columns]\n"
     ]
    }
   ],
   "source": [
    "properties.rename(columns = {'index': 'Borough'},inplace=True)\n",
    "properties = properties.loc[:, properties.columns.notnull()]\n",
    "\n",
    "properties = properties.iloc[1:33]\n",
    "\n",
    "print(properties.head(5))"
   ]
  },
  {
   "cell_type": "markdown",
   "metadata": {
    "colab_type": "text",
    "id": "jy8BzXHmoWEw"
   },
   "source": [
    "**2.4.Transforming the data**\n",
    "\n",
    "Remember what Wes McKinney said about tidy data? \n",
    "\n",
    "You might need to **melt** your DataFrame here. "
   ]
  },
  {
   "cell_type": "code",
   "execution_count": 10,
   "metadata": {
    "colab": {},
    "colab_type": "code",
    "id": "S2wM0qLuo2Zt"
   },
   "outputs": [],
   "source": [
    "pd.melt(properties,id_vars=['Borough'])"
   ]
  },
  {
   "cell_type": "markdown",
   "metadata": {
    "colab_type": "text",
    "id": "7kIsgAo7o3mf"
   },
   "source": [
    "Remember to make sure your column data types are all correct. Average prices, for example, should be floating point numbers... "
   ]
  },
  {
   "cell_type": "code",
   "execution_count": 11,
   "metadata": {
    "colab": {},
    "colab_type": "code",
    "id": "ZcR4IHbcpOaq"
   },
   "outputs": [],
   "source": [
    "print(properties)"
   ]
  },
  {
   "cell_type": "markdown",
   "metadata": {
    "colab_type": "text",
    "id": "knLUXHLypOtw"
   },
   "source": [
    "**2.5. Cleaning the data (part 3)**\n",
    "\n",
    "Do we have an equal number of observations in the ID, Average Price, Month, and London Borough columns? Remember that there are only 32 London Boroughs. How many entries do you have in that column? \n",
    "\n",
    "Check out the contents of the London Borough column, and if you find null values, get rid of them however you see fit. "
   ]
  },
  {
   "cell_type": "code",
   "execution_count": 9,
   "metadata": {
    "colab": {},
    "colab_type": "code",
    "id": "BnvTW5a3p0fC"
   },
   "outputs": [
    {
     "name": "stdout",
     "output_type": "stream",
     "text": [
      "Unnamed: 0               Borough 1995-01-01 00:00:00 1995-02-01 00:00:00  \\\n",
      "1             Barking & Dagenham             50460.2             51085.8   \n",
      "2                         Barnet             93284.5             93190.2   \n",
      "3                         Bexley             64958.1             64787.9   \n",
      "4                          Brent             71306.6             72022.3   \n",
      "5                        Bromley             81671.5             81657.6   \n",
      "6                         Camden              120933              119509   \n",
      "7                        Croydon             69158.2             68951.1   \n",
      "8                         Ealing             79885.9             80897.1   \n",
      "9                        Enfield             72514.7             73155.2   \n",
      "10                     Greenwich             62300.1             60993.3   \n",
      "11                       Hackney             61296.5             63187.1   \n",
      "12          Hammersmith & Fulham              124903              122088   \n",
      "13                      Haringey             76287.6             78901.2   \n",
      "14                        Harrow             84769.5             83396.1   \n",
      "15                      Havering             68000.1             69393.5   \n",
      "16                    Hillingdon             73834.8             75031.1   \n",
      "17                      Hounslow             72231.7             71051.6   \n",
      "18                     Islington             92516.5             94342.4   \n",
      "19          Kensington & Chelsea              182695              182345   \n",
      "20          Kingston upon Thames             80875.8             81230.1   \n",
      "21                       Lambeth               67771             65381.5   \n",
      "22                      Lewisham             60491.3             60869.3   \n",
      "23                        Merton             82070.6             79982.7   \n",
      "24                        Newham             53539.3             53153.9   \n",
      "25                     Redbridge             72189.6             72141.6   \n",
      "26          Richmond upon Thames              109326              111103   \n",
      "27                     Southwark             67885.2             64799.1   \n",
      "28                        Sutton               71537             70893.2   \n",
      "29                 Tower Hamlets             59865.2             62318.5   \n",
      "30                Waltham Forest             61319.4             60252.1   \n",
      "31                    Wandsworth               88559               88641   \n",
      "32                   Westminster              133025              131468   \n",
      "\n",
      "Unnamed: 0 1995-03-01 00:00:00 1995-04-01 00:00:00 1995-05-01 00:00:00  \\\n",
      "1                        51269             53133.5             53042.2   \n",
      "2                      92247.5             90762.9               90258   \n",
      "3                      64367.5             64277.7             63997.1   \n",
      "4                      72015.8             72965.6               73704   \n",
      "5                      81449.3             81124.4             81542.6   \n",
      "6                       120282              120098              119929   \n",
      "7                      68712.4               68610             68844.9   \n",
      "8                      81379.9             82188.9             82077.1   \n",
      "9                      72190.4             71442.9             70630.8   \n",
      "10                     61377.8             61927.7               63513   \n",
      "11                     63593.3             65139.6               66194   \n",
      "12                      120636              121425              124434   \n",
      "13                     78521.9             79545.6               79374   \n",
      "14                     83416.2             83567.9             83853.7   \n",
      "15                       69368             69444.3             68534.5   \n",
      "16                     74188.7             73911.4             73117.1   \n",
      "17                       72098             71890.3             72877.5   \n",
      "18                     93465.9             93344.5             94346.4   \n",
      "19                      182879              184177              191474   \n",
      "20                     81111.5             81672.8             82123.5   \n",
      "21                     66336.5             66388.8             69035.1   \n",
      "22                       60288               59471             58551.4   \n",
      "23                     80661.7             79990.5               80874   \n",
      "24                     53458.3             54479.8               55804   \n",
      "25                     72501.4             72228.6             72366.6   \n",
      "26                      107325              106875              107708   \n",
      "27                     65763.3             63073.6             64420.5   \n",
      "28                     70306.8             69411.9             69759.2   \n",
      "29                     63938.7             66233.2             66432.9   \n",
      "30                     60871.1             60971.4             61494.2   \n",
      "31                     87124.8               87026             86518.1   \n",
      "32                      132260              133370              133911   \n",
      "\n",
      "Unnamed: 0 1995-06-01 00:00:00 1995-07-01 00:00:00 1995-08-01 00:00:00  \\\n",
      "1                      53700.3             52113.1             52232.2   \n",
      "2                      90107.2             91441.2             92361.3   \n",
      "3                      64252.3             63722.7             64432.6   \n",
      "4                      74310.5               74127               73547   \n",
      "5                      82382.8             82898.5             82054.4   \n",
      "6                       121887              124028              125530   \n",
      "7                      69052.5             69142.5             68993.4   \n",
      "8                      81630.7             82352.2             82706.7   \n",
      "9                      71348.3             71837.5             72237.9   \n",
      "10                     64751.6             65486.3             65076.4   \n",
      "11                     66921.2             68390.8             68096.8   \n",
      "12                      126175              124382              123625   \n",
      "13                     79956.4             80746.3             81217.7   \n",
      "14                     84173.2             84226.7             84430.6   \n",
      "15                     68464.6             68680.8             69023.4   \n",
      "16                       74005             74671.1             74967.9   \n",
      "17                     72331.1             73717.8             74479.9   \n",
      "18                     97428.9             98976.1             98951.2   \n",
      "19                      197266              197963              198037   \n",
      "20                     82205.7             82525.8             83342.8   \n",
      "21                     68881.2             69608.7               68840   \n",
      "22                     58041.4             58126.4             58151.3   \n",
      "23                     80704.9             81055.9             80781.1   \n",
      "24                     56067.8             55458.3             54709.4   \n",
      "25                     72279.4             72880.8             73275.2   \n",
      "26                      112865              114657              112320   \n",
      "27                     64155.8             67024.7             65525.9   \n",
      "28                     70125.2             70789.6             69958.4   \n",
      "29                     66232.2             64692.2             63472.3   \n",
      "30                     61547.8             61933.5             61916.4   \n",
      "31                     88114.3             89830.6             90560.7   \n",
      "32                      134562              133450              136582   \n",
      "\n",
      "Unnamed: 0 1995-09-01 00:00:00  ... 2019-06-01 00:00:00 2019-07-01 00:00:00  \\\n",
      "1                      51471.6  ...              293889              297426   \n",
      "2                      93273.1  ...              512694              514668   \n",
      "3                      64509.5  ...              339324              338346   \n",
      "4                      73789.5  ...              474821              473849   \n",
      "5                      81440.4  ...              430002              434257   \n",
      "6                       120597  ...              871957              890288   \n",
      "7                      69393.5  ...              363420              365875   \n",
      "8                      82011.1  ...              474844              475592   \n",
      "9                      71725.2  ...              390708              388053   \n",
      "10                     63996.8  ...              388252              397828   \n",
      "11                     68752.5  ...              546344              555779   \n",
      "12                      123094  ...              713137              725253   \n",
      "13                     82142.9  ...              540626              550393   \n",
      "14                       83607  ...              447719              446095   \n",
      "15                     68108.2  ...              365336              367679   \n",
      "16                     73843.6  ...              395982              398547   \n",
      "17                     74426.7  ...              399687              397246   \n",
      "18                     99582.6  ...              625315              629281   \n",
      "19                      197048  ...         1.29176e+06         1.27544e+06   \n",
      "20                       85111  ...              484676              502895   \n",
      "21                     70155.8  ...              503721              510045   \n",
      "22                       58743  ...              405009              410983   \n",
      "23                     80824.7  ...              498683              504702   \n",
      "24                     54585.5  ...              359953              359106   \n",
      "25                       73204  ...              408514              414968   \n",
      "26                      110425  ...              652859              657619   \n",
      "27                       63467  ...              494784              499663   \n",
      "28                     69937.4  ...              371680              373534   \n",
      "29                     62177.6  ...              428705              431290   \n",
      "30                     61548.2  ...              421958              418743   \n",
      "31                     91373.7  ...              574833              585174   \n",
      "32                      135993  ...              995108              948507   \n",
      "\n",
      "Unnamed: 0 2019-08-01 00:00:00 2019-09-01 00:00:00 2019-10-01 00:00:00  \\\n",
      "1                       299421              304778              304579   \n",
      "2                       528577              526670              525678   \n",
      "3                       337523              333340              332920   \n",
      "4                       488784              501533              494770   \n",
      "5                       442189              441058              439178   \n",
      "6                       863171              838170              804713   \n",
      "7                       364540              365226              364413   \n",
      "8                       474627              473162              477369   \n",
      "9                       393033              386806              392721   \n",
      "10                      396858              403730              401559   \n",
      "11                      567269              573270              566979   \n",
      "12                      729659              735538              719932   \n",
      "13                      544194              553640              554123   \n",
      "14                      450373              453155              453783   \n",
      "15                      367502              366447              367102   \n",
      "16                      397385              403945              403300   \n",
      "17                      401911              406930              413132   \n",
      "18                      643335              655061              645212   \n",
      "19                 1.24853e+06         1.23018e+06         1.19044e+06   \n",
      "20                      508405              504867              488211   \n",
      "21                      519956              520403              515947   \n",
      "22                      416885              420341              421258   \n",
      "23                      517489              515391              509006   \n",
      "24                      361920              368687              369972   \n",
      "25                      421319              414268              411874   \n",
      "26                      657974              648147              643769   \n",
      "27                      496718              507466              513615   \n",
      "28                      368908              372899              369917   \n",
      "29                      441364              447629              452040   \n",
      "30                      427416              432270              434921   \n",
      "31                      592251              605559              600642   \n",
      "32                      905951              922687              927735   \n",
      "\n",
      "Unnamed: 0 2019-11-01 00:00:00 2019-12-01 00:00:00 2020-01-01 00:00:00  \\\n",
      "1                       306390              301283              304187   \n",
      "2                       522639              519306              520115   \n",
      "3                       333657              336302              334430   \n",
      "4                       432188              427126              424663   \n",
      "5                       436080              438682              435337   \n",
      "6                       825336              807124              816906   \n",
      "7                       367585              369568              371918   \n",
      "8                       475492              469662              467351   \n",
      "9                       393255              400182              390575   \n",
      "10                      405337              398024              396726   \n",
      "11                      559758              552785              560644   \n",
      "12                      719751              728698              742390   \n",
      "13                      559426              565582              561555   \n",
      "14                      450109              446900              447786   \n",
      "15                      365861              365886              361905   \n",
      "16                      407706              404843              407688   \n",
      "17                      410071              409569              410271   \n",
      "18                      630659              648969              671871   \n",
      "19                 1.19405e+06         1.23176e+06         1.24502e+06   \n",
      "20                      490420              487696              489615   \n",
      "21                      519410              521705              527597   \n",
      "22                      415893              413462              409272   \n",
      "23                      501570              500651              503834   \n",
      "24                      363114              360934              368245   \n",
      "25                      413882              424631              423587   \n",
      "26                      650949              655378              665797   \n",
      "27                      510619              505499              500395   \n",
      "28                      374775              372581              372145   \n",
      "29                      450989              456436              464737   \n",
      "30                      435568              437333              442368   \n",
      "31                      601650              605560              606271   \n",
      "32                      955265              960943         1.00128e+06   \n",
      "\n",
      "Unnamed: 0 2020-02-01 00:00:00 2020-03-01 00:00:00  \n",
      "1                       304719              327136  \n",
      "2                       520966              532569  \n",
      "3                       334845              331679  \n",
      "4                       471574              446966  \n",
      "5                       436544              430033  \n",
      "6                       818558              881096  \n",
      "7                       371686              358356  \n",
      "8                       467963              454027  \n",
      "9                       391100              386000  \n",
      "10                      399806              415693  \n",
      "11                      575907              638683  \n",
      "12                      754150              747174  \n",
      "13                      551360              565343  \n",
      "14                      457364              454716  \n",
      "15                      362665              352951  \n",
      "16                      404694              417977  \n",
      "17                      408460              423042  \n",
      "18                      674948              632270  \n",
      "19                 1.30433e+06          1.3961e+06  \n",
      "20                      487604              506000  \n",
      "21                      529832              525487  \n",
      "22                      413063              424233  \n",
      "23                      502533              509252  \n",
      "24                      377365              387326  \n",
      "25                      424049              418473  \n",
      "26                      661396              633481  \n",
      "27                      504045              488610  \n",
      "28                      373843              377458  \n",
      "29                      473410              472662  \n",
      "30                      441461              437153  \n",
      "31                      605237              624858  \n",
      "32                 1.04288e+06         1.08501e+06  \n",
      "\n",
      "[32 rows x 304 columns]\n"
     ]
    }
   ],
   "source": []
  },
  {
   "cell_type": "markdown",
   "metadata": {
    "colab_type": "text",
    "id": "PGEx6mJsp6dG"
   },
   "source": [
    "**2.6. Visualizing the data**\n",
    "\n",
    "To visualize the data, why not subset on a particular London Borough? Maybe do a line plot of Month against Average Price?"
   ]
  },
  {
   "cell_type": "code",
   "execution_count": null,
   "metadata": {
    "colab": {},
    "colab_type": "code",
    "id": "nAg5pT9cqHAR"
   },
   "outputs": [],
   "source": []
  },
  {
   "cell_type": "markdown",
   "metadata": {
    "colab_type": "text",
    "id": "aWTPqSJeqHnC"
   },
   "source": [
    "To limit the number of data points you have, you might want to extract the year from every month value your *Month* column. \n",
    "\n",
    "To this end, you *could* apply a ***lambda function***. Your logic could work as follows:\n",
    "1. look through the `Month` column\n",
    "2. extract the year from each individual value in that column \n",
    "3. store that corresponding year as separate column. \n",
    "\n",
    "Whether you go ahead with this is up to you. Just so long as you answer our initial brief: which boroughs of London have seen the greatest house price increase, on average, over the past two decades? "
   ]
  },
  {
   "cell_type": "code",
   "execution_count": null,
   "metadata": {
    "colab": {},
    "colab_type": "code",
    "id": "e0DF92cyqnu8"
   },
   "outputs": [],
   "source": []
  },
  {
   "cell_type": "markdown",
   "metadata": {
    "colab_type": "text",
    "id": "2knuTxAEqoJ4"
   },
   "source": [
    "**3. Modeling**\n",
    "\n",
    "Consider creating a function that will calculate a ratio of house prices, comparing the price of a house in 2018 to the price in 1998.\n",
    "\n",
    "Consider calling this function create_price_ratio.\n",
    "\n",
    "You'd want this function to:\n",
    "1. Take a filter of dfg, specifically where this filter constrains the London_Borough, as an argument. For example, one admissible argument should be: dfg[dfg['London_Borough']=='Camden'].\n",
    "2. Get the Average Price for that Borough, for the years 1998 and 2018.\n",
    "4. Calculate the ratio of the Average Price for 1998 divided by the Average Price for 2018.\n",
    "5. Return that ratio.\n",
    "\n",
    "Once you've written this function, you ultimately want to use it to iterate through all the unique London_Boroughs and work out the ratio capturing the difference of house prices between 1998 and 2018.\n",
    "\n",
    "Bear in mind: you don't have to write a function like this if you don't want to. If you can solve the brief otherwise, then great! \n",
    "\n",
    "***Hint***: This section should test the skills you acquired in:\n",
    "- Python Data Science Toolbox - Part One, all modules"
   ]
  },
  {
   "cell_type": "code",
   "execution_count": null,
   "metadata": {
    "colab": {},
    "colab_type": "code",
    "id": "cKTyr437UgDa"
   },
   "outputs": [],
   "source": []
  },
  {
   "cell_type": "markdown",
   "metadata": {
    "colab_type": "text",
    "id": "NzYUI7FxJpgv"
   },
   "source": [
    "### 4. Conclusion\n",
    "What can you conclude? Type out your conclusion below. \n",
    "\n",
    "Look back at your notebook. Think about how you might summarize what you have done, and prepare a quick presentation on it to your mentor at your next meeting. \n",
    "\n",
    "We hope you enjoyed this practical project. It should have consolidated your data hygiene and pandas skills by looking at a real-world problem involving just the kind of dataset you might encounter as a budding data scientist. Congratulations, and looking forward to seeing you at the next step in the course! "
   ]
  }
 ],
 "metadata": {
  "colab": {
   "collapsed_sections": [],
   "name": "Springboard Data Science Career Track Unit 4 Challenge - Tier 3 Complete .ipynb",
   "provenance": []
  },
  "kernelspec": {
   "display_name": "Python 3",
   "language": "python",
   "name": "python3"
  },
  "language_info": {
   "codemirror_mode": {
    "name": "ipython",
    "version": 3
   },
   "file_extension": ".py",
   "mimetype": "text/x-python",
   "name": "python",
   "nbconvert_exporter": "python",
   "pygments_lexer": "ipython3",
   "version": "3.7.6"
  }
 },
 "nbformat": 4,
 "nbformat_minor": 1
}
