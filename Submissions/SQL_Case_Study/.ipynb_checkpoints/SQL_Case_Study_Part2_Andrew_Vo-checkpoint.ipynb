{
 "cells": [
  {
   "cell_type": "code",
   "execution_count": 70,
   "metadata": {},
   "outputs": [],
   "source": [
    "# Import SQL package and database\n",
    "\n",
    "import sqlite3\n",
    "from sqlite3 import Error\n",
    "\n",
    "# Define connection function for SQLite3 with error handling\n",
    "def create_connection(db_file):\n",
    "    conn = None\n",
    "    try:\n",
    "        conn = sqlite3.connect(db_file)\n",
    "    except Error as e:\n",
    "        print(e)\n",
    "    return conn\n",
    "\n",
    "# Define query execution and printing\n",
    "def execute_query(query,conn):\n",
    "    with conn:\n",
    "        cur = conn.cursor()\n",
    "        cur.execute(query)\n",
    "        rows = cur.fetchall()\n",
    "        for i in rows:\n",
    "            print(i)\n",
    "    "
   ]
  },
  {
   "cell_type": "code",
   "execution_count": 71,
   "metadata": {},
   "outputs": [],
   "source": [
    "# Connect to the database\n",
    "database = \"sqlite_db_pythonsqlite.db\"\n",
    "conn = create_connection(database)"
   ]
  },
  {
   "cell_type": "code",
   "execution_count": 72,
   "metadata": {},
   "outputs": [
    {
     "name": "stdout",
     "output_type": "stream",
     "text": [
      "('Table Tennis', 180)\n",
      "('Snooker Table', 240)\n",
      "('Pool Table', 270)\n"
     ]
    }
   ],
   "source": [
    "# Q10: Produce a list of facilities with a total revenue less than 1000.\n",
    "# The output of facility name and total revenue, sorted by revenue.\n",
    "# Remember that there's a different cost for guests and members!\n",
    "\n",
    "query10 =   \"\"\"\n",
    "            SELECT *\n",
    "            FROM (\n",
    "                SELECT revenue_table.name as facility_name,\n",
    "                    SUM(booking_revenue) as facility_revenue\n",
    "                FROM (  SELECT    b.facid,\n",
    "                                CASE WHEN memid = 0 THEN slots*guestcost\n",
    "                                ELSE slots*membercost END AS booking_revenue,\n",
    "                                f.name\n",
    "                        FROM Bookings as b\n",
    "                        LEFT JOIN Facilities as f\n",
    "                            ON b.facid = f.facid ) as revenue_table\n",
    "                GROUP BY facid) as summary_table\n",
    "            WHERE facility_revenue < 1000\n",
    "            ORDER BY facility_revenue\n",
    "            \"\"\"\n",
    "\n",
    "execute_query(query10,conn)"
   ]
  },
  {
   "cell_type": "code",
   "execution_count": 73,
   "metadata": {},
   "outputs": [
    {
     "name": "stdout",
     "output_type": "stream",
     "text": [
      "('Bader Florence', 'Stibbons Ponder')\n",
      "('Baker Anne', 'Stibbons Ponder')\n",
      "('Baker Timothy', 'Farrell Jemima')\n",
      "('Boothe Tim', 'Rownam Tim')\n",
      "('Butters Gerald', 'Smith Darren')\n",
      "('Coplin Joan', 'Baker Timothy')\n",
      "('Crumpet Erica', 'Smith Tracy')\n",
      "('Dare Nancy', 'Joplette Janice')\n",
      "('Farrell David', None)\n",
      "('Farrell Jemima', None)\n",
      "('GUEST GUEST', None)\n",
      "('Genting Matthew', 'Butters Gerald')\n",
      "('Hunt John', 'Purview Millicent')\n",
      "('Jones David', 'Joplette Janice')\n",
      "('Jones Douglas', 'Jones David')\n",
      "('Joplette Janice', 'Smith Darren')\n",
      "('Mackenzie Anna', 'Smith Darren')\n",
      "('Owen Charles', 'Smith Darren')\n",
      "('Pinker David', 'Farrell Jemima')\n",
      "('Purview Millicent', 'Smith Tracy')\n",
      "('Rownam Tim', None)\n",
      "('Rumney Henrietta', 'Genting Matthew')\n",
      "('Sarwin Ramnaresh', 'Bader Florence')\n",
      "('Smith Darren', None)\n",
      "('Smith Jack', 'Smith Darren')\n",
      "('Smith Tracy', None)\n",
      "('Stibbons Ponder', 'Tracy Burton')\n",
      "('Tracy Burton', None)\n",
      "('Tupperware Hyacinth', None)\n",
      "('Worthington-Smyth Henry', 'Smith Tracy')\n"
     ]
    }
   ],
   "source": [
    "# Q11: Produce a report of members and who recommended them in\n",
    "# alphabetic surname, firstname order\n",
    "\n",
    "query11 =   \"\"\"\n",
    "            SELECT DISTINCT A.surname || ' ' || A.firstname as member_name,\n",
    "                   B.surname || ' ' || B.firstname as recommendedby_name\n",
    "            FROM Members as A\n",
    "            LEFT JOIN Members as B\n",
    "            ON A.recommendedby = B.memid\n",
    "            ORDER BY member_name\n",
    "            \"\"\"\n",
    "\n",
    "execute_query(query11,conn)"
   ]
  },
  {
   "cell_type": "code",
   "execution_count": 90,
   "metadata": {},
   "outputs": [
    {
     "name": "stdout",
     "output_type": "stream",
     "text": [
      "(0, 308)\n",
      "(1, 276)\n",
      "(2, 344)\n",
      "(3, 385)\n",
      "(4, 421)\n",
      "(5, 27)\n",
      "(6, 195)\n",
      "(7, 421)\n",
      "(8, 783)\n"
     ]
    }
   ],
   "source": [
    "# Q12: Find the facilities with their usage by member, but not guests\n",
    "# Usage measured as number of slots booked by members only, excluding guests\n",
    "\n",
    "query12 =   \"\"\"\n",
    "            SELECT  facid,\n",
    "                    COUNT(slots) as facilities_usage\n",
    "            FROM Bookings\n",
    "            WHERE memid != 0\n",
    "            GROUP BY facid\n",
    "            \"\"\"\n",
    "\n",
    "execute_query(query12,conn)"
   ]
  },
  {
   "cell_type": "code",
   "execution_count": 87,
   "metadata": {},
   "outputs": [
    {
     "name": "stdout",
     "output_type": "stream",
     "text": [
      "('07', 480)\n",
      "('08', 1168)\n",
      "('09', 1512)\n"
     ]
    }
   ],
   "source": [
    "# Q13: Find the facilities usage by month, but not guests\n",
    "# Usage measured as number of slots booked by members only, excluding guests\n",
    "\n",
    "query13 =   \"\"\"\n",
    "            SELECT  strftime('%m', starttime) as month_usage,\n",
    "                    COUNT(slots) as facilities_usage\n",
    "            FROM Bookings\n",
    "            WHERE memid != 0\n",
    "            GROUP BY month_usage\n",
    "            ORDER BY month_usage\n",
    "            \"\"\"\n",
    "\n",
    "execute_query(query13,conn)"
   ]
  },
  {
   "cell_type": "code",
   "execution_count": null,
   "metadata": {},
   "outputs": [],
   "source": []
  }
 ],
 "metadata": {
  "kernelspec": {
   "display_name": "Python 3",
   "language": "python",
   "name": "python3"
  },
  "language_info": {
   "codemirror_mode": {
    "name": "ipython",
    "version": 3
   },
   "file_extension": ".py",
   "mimetype": "text/x-python",
   "name": "python",
   "nbconvert_exporter": "python",
   "pygments_lexer": "ipython3",
   "version": "3.7.6"
  }
 },
 "nbformat": 4,
 "nbformat_minor": 4
}
