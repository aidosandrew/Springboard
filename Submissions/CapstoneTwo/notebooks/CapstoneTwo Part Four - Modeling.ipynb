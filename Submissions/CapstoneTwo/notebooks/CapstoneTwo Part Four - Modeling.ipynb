{
 "cells": [
  {
   "cell_type": "markdown",
   "metadata": {},
   "source": [
    "# Predictive Analysis of Robinhood Popularity Data - Modeling\n",
    "\n",
    "Purpose: In this module, we pick up from Part Three - where we prepared and scaled our training/test data.\n",
    "\n",
    "Our goal in Part Four of Modeling is to build and evaluate several algorithms to find an optimal regressor.\n",
    "\n",
    "We will also spend time tuning the hyperparamters for our models to optimize each model to its fullest potential."
   ]
  },
  {
   "cell_type": "code",
   "execution_count": 1,
   "metadata": {},
   "outputs": [],
   "source": [
    "# Importing modules for modeling\n",
    "\n",
    "import numpy as np\n",
    "import pandas as pd\n",
    "import seaborn as sns\n",
    "import matplotlib.pyplot as plt\n",
    "import time\n",
    "from pickle import dump, load\n",
    "from sklearn.model_selection import GridSearchCV\n",
    "from sklearn.model_selection import RandomizedSearchCV\n",
    "from sklearn.metrics import mean_squared_error"
   ]
  },
  {
   "cell_type": "code",
   "execution_count": 2,
   "metadata": {},
   "outputs": [],
   "source": [
    "# Loading in our data scaler from Part Three\n",
    "\n",
    "filepath = \"../models/scaler.pkl\"\n",
    "scaler = load(open(filepath, 'rb'))"
   ]
  },
  {
   "cell_type": "code",
   "execution_count": 3,
   "metadata": {},
   "outputs": [
    {
     "data": {
      "text/html": [
       "<div>\n",
       "<style scoped>\n",
       "    .dataframe tbody tr th:only-of-type {\n",
       "        vertical-align: middle;\n",
       "    }\n",
       "\n",
       "    .dataframe tbody tr th {\n",
       "        vertical-align: top;\n",
       "    }\n",
       "\n",
       "    .dataframe thead th {\n",
       "        text-align: right;\n",
       "    }\n",
       "</style>\n",
       "<table border=\"1\" class=\"dataframe\">\n",
       "  <thead>\n",
       "    <tr style=\"text-align: right;\">\n",
       "      <th></th>\n",
       "      <th>Robinhood</th>\n",
       "      <th>Percentage_Volume</th>\n",
       "      <th>Year</th>\n",
       "      <th>Month</th>\n",
       "      <th>Day</th>\n",
       "      <th>Day_of_Week</th>\n",
       "      <th>Robinhood_Lag1</th>\n",
       "      <th>Robinhood_Lag2</th>\n",
       "      <th>Robinhood_Lag3</th>\n",
       "      <th>Robinhood_Lag4</th>\n",
       "      <th>...</th>\n",
       "      <th>Ticker_NKE</th>\n",
       "      <th>Ticker_NVDA</th>\n",
       "      <th>Ticker_PYPL</th>\n",
       "      <th>Ticker_SNAP</th>\n",
       "      <th>Ticker_SQ</th>\n",
       "      <th>Ticker_T</th>\n",
       "      <th>Ticker_TSLA</th>\n",
       "      <th>Ticker_TWTR</th>\n",
       "      <th>Ticker_V</th>\n",
       "      <th>Ticker_ZNGA</th>\n",
       "    </tr>\n",
       "  </thead>\n",
       "  <tbody>\n",
       "    <tr>\n",
       "      <th>0</th>\n",
       "      <td>0.964764</td>\n",
       "      <td>0.872016</td>\n",
       "      <td>0.002415</td>\n",
       "      <td>2018</td>\n",
       "      <td>7</td>\n",
       "      <td>17</td>\n",
       "      <td>1</td>\n",
       "      <td>150087.0</td>\n",
       "      <td>150117.0</td>\n",
       "      <td>150592.0</td>\n",
       "      <td>...</td>\n",
       "      <td>0</td>\n",
       "      <td>0</td>\n",
       "      <td>0</td>\n",
       "      <td>0</td>\n",
       "      <td>0</td>\n",
       "      <td>0</td>\n",
       "      <td>0</td>\n",
       "      <td>0</td>\n",
       "      <td>0</td>\n",
       "      <td>0</td>\n",
       "    </tr>\n",
       "    <tr>\n",
       "      <th>1</th>\n",
       "      <td>0.973085</td>\n",
       "      <td>0.557379</td>\n",
       "      <td>0.002295</td>\n",
       "      <td>2018</td>\n",
       "      <td>7</td>\n",
       "      <td>18</td>\n",
       "      <td>2</td>\n",
       "      <td>150065.0</td>\n",
       "      <td>150087.0</td>\n",
       "      <td>150117.0</td>\n",
       "      <td>...</td>\n",
       "      <td>0</td>\n",
       "      <td>0</td>\n",
       "      <td>0</td>\n",
       "      <td>0</td>\n",
       "      <td>0</td>\n",
       "      <td>0</td>\n",
       "      <td>0</td>\n",
       "      <td>0</td>\n",
       "      <td>0</td>\n",
       "      <td>0</td>\n",
       "    </tr>\n",
       "    <tr>\n",
       "      <th>2</th>\n",
       "      <td>0.977209</td>\n",
       "      <td>0.785345</td>\n",
       "      <td>0.001858</td>\n",
       "      <td>2018</td>\n",
       "      <td>7</td>\n",
       "      <td>19</td>\n",
       "      <td>3</td>\n",
       "      <td>150523.0</td>\n",
       "      <td>150065.0</td>\n",
       "      <td>150087.0</td>\n",
       "      <td>...</td>\n",
       "      <td>0</td>\n",
       "      <td>0</td>\n",
       "      <td>0</td>\n",
       "      <td>0</td>\n",
       "      <td>0</td>\n",
       "      <td>0</td>\n",
       "      <td>0</td>\n",
       "      <td>0</td>\n",
       "      <td>0</td>\n",
       "      <td>0</td>\n",
       "    </tr>\n",
       "    <tr>\n",
       "      <th>3</th>\n",
       "      <td>0.978826</td>\n",
       "      <td>0.634696</td>\n",
       "      <td>0.001824</td>\n",
       "      <td>2018</td>\n",
       "      <td>7</td>\n",
       "      <td>20</td>\n",
       "      <td>4</td>\n",
       "      <td>150750.0</td>\n",
       "      <td>150523.0</td>\n",
       "      <td>150065.0</td>\n",
       "      <td>...</td>\n",
       "      <td>0</td>\n",
       "      <td>0</td>\n",
       "      <td>0</td>\n",
       "      <td>0</td>\n",
       "      <td>0</td>\n",
       "      <td>0</td>\n",
       "      <td>0</td>\n",
       "      <td>0</td>\n",
       "      <td>0</td>\n",
       "      <td>0</td>\n",
       "    </tr>\n",
       "    <tr>\n",
       "      <th>4</th>\n",
       "      <td>0.982279</td>\n",
       "      <td>0.606379</td>\n",
       "      <td>0.002361</td>\n",
       "      <td>2018</td>\n",
       "      <td>7</td>\n",
       "      <td>23</td>\n",
       "      <td>0</td>\n",
       "      <td>150839.0</td>\n",
       "      <td>150750.0</td>\n",
       "      <td>150523.0</td>\n",
       "      <td>...</td>\n",
       "      <td>0</td>\n",
       "      <td>0</td>\n",
       "      <td>0</td>\n",
       "      <td>0</td>\n",
       "      <td>0</td>\n",
       "      <td>0</td>\n",
       "      <td>0</td>\n",
       "      <td>0</td>\n",
       "      <td>0</td>\n",
       "      <td>0</td>\n",
       "    </tr>\n",
       "  </tbody>\n",
       "</table>\n",
       "<p>5 rows × 51 columns</p>\n",
       "</div>"
      ],
      "text/plain": [
       "   Robinhood  Percentage_Volume      Year  Month  Day  Day_of_Week  \\\n",
       "0   0.964764           0.872016  0.002415   2018    7           17   \n",
       "1   0.973085           0.557379  0.002295   2018    7           18   \n",
       "2   0.977209           0.785345  0.001858   2018    7           19   \n",
       "3   0.978826           0.634696  0.001824   2018    7           20   \n",
       "4   0.982279           0.606379  0.002361   2018    7           23   \n",
       "\n",
       "   Robinhood_Lag1  Robinhood_Lag2  Robinhood_Lag3  Robinhood_Lag4  ...  \\\n",
       "0               1        150087.0        150117.0        150592.0  ...   \n",
       "1               2        150065.0        150087.0        150117.0  ...   \n",
       "2               3        150523.0        150065.0        150087.0  ...   \n",
       "3               4        150750.0        150523.0        150065.0  ...   \n",
       "4               0        150839.0        150750.0        150523.0  ...   \n",
       "\n",
       "   Ticker_NKE  Ticker_NVDA  Ticker_PYPL  Ticker_SNAP  Ticker_SQ  Ticker_T  \\\n",
       "0           0            0            0            0          0         0   \n",
       "1           0            0            0            0          0         0   \n",
       "2           0            0            0            0          0         0   \n",
       "3           0            0            0            0          0         0   \n",
       "4           0            0            0            0          0         0   \n",
       "\n",
       "   Ticker_TSLA  Ticker_TWTR  Ticker_V  Ticker_ZNGA  \n",
       "0            0            0         0            0  \n",
       "1            0            0         0            0  \n",
       "2            0            0         0            0  \n",
       "3            0            0         0            0  \n",
       "4            0            0         0            0  \n",
       "\n",
       "[5 rows x 51 columns]"
      ]
     },
     "execution_count": 3,
     "metadata": {},
     "output_type": "execute_result"
    }
   ],
   "source": [
    "# Loading the training feature set\n",
    "\n",
    "X_train = pd.read_csv(\"../data/X_train.csv\")\n",
    "X_train.drop(X_train.columns[0], axis=1, inplace=True)\n",
    "X_train.head()"
   ]
  },
  {
   "cell_type": "code",
   "execution_count": 4,
   "metadata": {},
   "outputs": [
    {
     "data": {
      "text/html": [
       "<div>\n",
       "<style scoped>\n",
       "    .dataframe tbody tr th:only-of-type {\n",
       "        vertical-align: middle;\n",
       "    }\n",
       "\n",
       "    .dataframe tbody tr th {\n",
       "        vertical-align: top;\n",
       "    }\n",
       "\n",
       "    .dataframe thead th {\n",
       "        text-align: right;\n",
       "    }\n",
       "</style>\n",
       "<table border=\"1\" class=\"dataframe\">\n",
       "  <thead>\n",
       "    <tr style=\"text-align: right;\">\n",
       "      <th></th>\n",
       "      <th>Robinhood</th>\n",
       "      <th>Percentage_Volume</th>\n",
       "      <th>Year</th>\n",
       "      <th>Month</th>\n",
       "      <th>Day</th>\n",
       "      <th>Day_of_Week</th>\n",
       "      <th>Robinhood_Lag1</th>\n",
       "      <th>Robinhood_Lag2</th>\n",
       "      <th>Robinhood_Lag3</th>\n",
       "      <th>Robinhood_Lag4</th>\n",
       "      <th>...</th>\n",
       "      <th>Ticker_NKE</th>\n",
       "      <th>Ticker_NVDA</th>\n",
       "      <th>Ticker_PYPL</th>\n",
       "      <th>Ticker_SNAP</th>\n",
       "      <th>Ticker_SQ</th>\n",
       "      <th>Ticker_T</th>\n",
       "      <th>Ticker_TSLA</th>\n",
       "      <th>Ticker_TWTR</th>\n",
       "      <th>Ticker_V</th>\n",
       "      <th>Ticker_ZNGA</th>\n",
       "    </tr>\n",
       "  </thead>\n",
       "  <tbody>\n",
       "    <tr>\n",
       "      <th>0</th>\n",
       "      <td>0.779505</td>\n",
       "      <td>0.461336</td>\n",
       "      <td>0.001491</td>\n",
       "      <td>2019</td>\n",
       "      <td>12</td>\n",
       "      <td>30</td>\n",
       "      <td>0</td>\n",
       "      <td>214377.0</td>\n",
       "      <td>212717.0</td>\n",
       "      <td>211278.0</td>\n",
       "      <td>...</td>\n",
       "      <td>0</td>\n",
       "      <td>0</td>\n",
       "      <td>0</td>\n",
       "      <td>0</td>\n",
       "      <td>0</td>\n",
       "      <td>0</td>\n",
       "      <td>0</td>\n",
       "      <td>0</td>\n",
       "      <td>0</td>\n",
       "      <td>0</td>\n",
       "    </tr>\n",
       "    <tr>\n",
       "      <th>1</th>\n",
       "      <td>0.787103</td>\n",
       "      <td>0.479143</td>\n",
       "      <td>0.002139</td>\n",
       "      <td>2019</td>\n",
       "      <td>12</td>\n",
       "      <td>31</td>\n",
       "      <td>1</td>\n",
       "      <td>214931.0</td>\n",
       "      <td>214377.0</td>\n",
       "      <td>212717.0</td>\n",
       "      <td>...</td>\n",
       "      <td>0</td>\n",
       "      <td>0</td>\n",
       "      <td>0</td>\n",
       "      <td>0</td>\n",
       "      <td>0</td>\n",
       "      <td>0</td>\n",
       "      <td>0</td>\n",
       "      <td>0</td>\n",
       "      <td>0</td>\n",
       "      <td>0</td>\n",
       "    </tr>\n",
       "    <tr>\n",
       "      <th>2</th>\n",
       "      <td>0.810165</td>\n",
       "      <td>0.543044</td>\n",
       "      <td>0.001608</td>\n",
       "      <td>2020</td>\n",
       "      <td>1</td>\n",
       "      <td>2</td>\n",
       "      <td>3</td>\n",
       "      <td>215640.0</td>\n",
       "      <td>214931.0</td>\n",
       "      <td>214377.0</td>\n",
       "      <td>...</td>\n",
       "      <td>0</td>\n",
       "      <td>0</td>\n",
       "      <td>0</td>\n",
       "      <td>0</td>\n",
       "      <td>0</td>\n",
       "      <td>0</td>\n",
       "      <td>0</td>\n",
       "      <td>0</td>\n",
       "      <td>0</td>\n",
       "      <td>0</td>\n",
       "    </tr>\n",
       "    <tr>\n",
       "      <th>3</th>\n",
       "      <td>0.822060</td>\n",
       "      <td>0.509965</td>\n",
       "      <td>0.001496</td>\n",
       "      <td>2020</td>\n",
       "      <td>1</td>\n",
       "      <td>3</td>\n",
       "      <td>4</td>\n",
       "      <td>217792.0</td>\n",
       "      <td>215640.0</td>\n",
       "      <td>214931.0</td>\n",
       "      <td>...</td>\n",
       "      <td>0</td>\n",
       "      <td>0</td>\n",
       "      <td>0</td>\n",
       "      <td>0</td>\n",
       "      <td>0</td>\n",
       "      <td>0</td>\n",
       "      <td>0</td>\n",
       "      <td>0</td>\n",
       "      <td>0</td>\n",
       "      <td>0</td>\n",
       "    </tr>\n",
       "    <tr>\n",
       "      <th>4</th>\n",
       "      <td>0.821888</td>\n",
       "      <td>0.529464</td>\n",
       "      <td>0.001849</td>\n",
       "      <td>2020</td>\n",
       "      <td>1</td>\n",
       "      <td>6</td>\n",
       "      <td>0</td>\n",
       "      <td>218902.0</td>\n",
       "      <td>217792.0</td>\n",
       "      <td>215640.0</td>\n",
       "      <td>...</td>\n",
       "      <td>0</td>\n",
       "      <td>0</td>\n",
       "      <td>0</td>\n",
       "      <td>0</td>\n",
       "      <td>0</td>\n",
       "      <td>0</td>\n",
       "      <td>0</td>\n",
       "      <td>0</td>\n",
       "      <td>0</td>\n",
       "      <td>0</td>\n",
       "    </tr>\n",
       "  </tbody>\n",
       "</table>\n",
       "<p>5 rows × 51 columns</p>\n",
       "</div>"
      ],
      "text/plain": [
       "   Robinhood  Percentage_Volume      Year  Month  Day  Day_of_Week  \\\n",
       "0   0.779505           0.461336  0.001491   2019   12           30   \n",
       "1   0.787103           0.479143  0.002139   2019   12           31   \n",
       "2   0.810165           0.543044  0.001608   2020    1            2   \n",
       "3   0.822060           0.509965  0.001496   2020    1            3   \n",
       "4   0.821888           0.529464  0.001849   2020    1            6   \n",
       "\n",
       "   Robinhood_Lag1  Robinhood_Lag2  Robinhood_Lag3  Robinhood_Lag4  ...  \\\n",
       "0               0        214377.0        212717.0        211278.0  ...   \n",
       "1               1        214931.0        214377.0        212717.0  ...   \n",
       "2               3        215640.0        214931.0        214377.0  ...   \n",
       "3               4        217792.0        215640.0        214931.0  ...   \n",
       "4               0        218902.0        217792.0        215640.0  ...   \n",
       "\n",
       "   Ticker_NKE  Ticker_NVDA  Ticker_PYPL  Ticker_SNAP  Ticker_SQ  Ticker_T  \\\n",
       "0           0            0            0            0          0         0   \n",
       "1           0            0            0            0          0         0   \n",
       "2           0            0            0            0          0         0   \n",
       "3           0            0            0            0          0         0   \n",
       "4           0            0            0            0          0         0   \n",
       "\n",
       "   Ticker_TSLA  Ticker_TWTR  Ticker_V  Ticker_ZNGA  \n",
       "0            0            0         0            0  \n",
       "1            0            0         0            0  \n",
       "2            0            0         0            0  \n",
       "3            0            0         0            0  \n",
       "4            0            0         0            0  \n",
       "\n",
       "[5 rows x 51 columns]"
      ]
     },
     "execution_count": 4,
     "metadata": {},
     "output_type": "execute_result"
    }
   ],
   "source": [
    "# Loading the test feature set\n",
    "\n",
    "X_test = pd.read_csv(\"../data/X_test.csv\")\n",
    "X_test.drop(X_test.columns[0], axis=1, inplace=True)\n",
    "X_test.head()"
   ]
  },
  {
   "cell_type": "code",
   "execution_count": 5,
   "metadata": {},
   "outputs": [
    {
     "data": {
      "text/html": [
       "<div>\n",
       "<style scoped>\n",
       "    .dataframe tbody tr th:only-of-type {\n",
       "        vertical-align: middle;\n",
       "    }\n",
       "\n",
       "    .dataframe tbody tr th {\n",
       "        vertical-align: top;\n",
       "    }\n",
       "\n",
       "    .dataframe thead th {\n",
       "        text-align: right;\n",
       "    }\n",
       "</style>\n",
       "<table border=\"1\" class=\"dataframe\">\n",
       "  <thead>\n",
       "    <tr style=\"text-align: right;\">\n",
       "      <th></th>\n",
       "      <th>ExPost_PriceChange_1D</th>\n",
       "      <th>ExPost_PriceChange_5D</th>\n",
       "      <th>ExPost_PriceChange_10D</th>\n",
       "      <th>ExAnte_PriceChange_1D</th>\n",
       "      <th>ExAnte_PriceChange_3D</th>\n",
       "      <th>ExAnte_PriceChange_5D</th>\n",
       "    </tr>\n",
       "  </thead>\n",
       "  <tbody>\n",
       "    <tr>\n",
       "      <th>0</th>\n",
       "      <td>0.002829</td>\n",
       "      <td>0.005779</td>\n",
       "      <td>0.022812</td>\n",
       "      <td>-0.005484</td>\n",
       "      <td>-0.000052</td>\n",
       "      <td>0.008096</td>\n",
       "    </tr>\n",
       "    <tr>\n",
       "      <th>1</th>\n",
       "      <td>-0.005484</td>\n",
       "      <td>0.013413</td>\n",
       "      <td>0.035233</td>\n",
       "      <td>0.007773</td>\n",
       "      <td>0.006355</td>\n",
       "      <td>0.023214</td>\n",
       "    </tr>\n",
       "    <tr>\n",
       "      <th>2</th>\n",
       "      <td>0.007773</td>\n",
       "      <td>0.004450</td>\n",
       "      <td>0.034952</td>\n",
       "      <td>-0.002293</td>\n",
       "      <td>0.005837</td>\n",
       "      <td>0.012143</td>\n",
       "    </tr>\n",
       "    <tr>\n",
       "      <th>3</th>\n",
       "      <td>-0.002293</td>\n",
       "      <td>0.000575</td>\n",
       "      <td>0.018460</td>\n",
       "      <td>0.000888</td>\n",
       "      <td>0.017656</td>\n",
       "      <td>-0.002403</td>\n",
       "    </tr>\n",
       "    <tr>\n",
       "      <th>4</th>\n",
       "      <td>0.000888</td>\n",
       "      <td>0.003667</td>\n",
       "      <td>0.005405</td>\n",
       "      <td>0.007254</td>\n",
       "      <td>0.013569</td>\n",
       "      <td>-0.008872</td>\n",
       "    </tr>\n",
       "  </tbody>\n",
       "</table>\n",
       "</div>"
      ],
      "text/plain": [
       "   ExPost_PriceChange_1D  ExPost_PriceChange_5D  ExPost_PriceChange_10D  \\\n",
       "0               0.002829               0.005779                0.022812   \n",
       "1              -0.005484               0.013413                0.035233   \n",
       "2               0.007773               0.004450                0.034952   \n",
       "3              -0.002293               0.000575                0.018460   \n",
       "4               0.000888               0.003667                0.005405   \n",
       "\n",
       "   ExAnte_PriceChange_1D  ExAnte_PriceChange_3D  ExAnte_PriceChange_5D  \n",
       "0              -0.005484              -0.000052               0.008096  \n",
       "1               0.007773               0.006355               0.023214  \n",
       "2              -0.002293               0.005837               0.012143  \n",
       "3               0.000888               0.017656              -0.002403  \n",
       "4               0.007254               0.013569              -0.008872  "
      ]
     },
     "execution_count": 5,
     "metadata": {},
     "output_type": "execute_result"
    }
   ],
   "source": [
    "# Loading the training target set\n",
    "\n",
    "y_train = pd.read_csv(\"../data/y_train.csv\")\n",
    "y_train.drop(y_train.columns[0], axis=1, inplace=True)\n",
    "y_train.head()"
   ]
  },
  {
   "cell_type": "code",
   "execution_count": 6,
   "metadata": {},
   "outputs": [
    {
     "data": {
      "text/html": [
       "<div>\n",
       "<style scoped>\n",
       "    .dataframe tbody tr th:only-of-type {\n",
       "        vertical-align: middle;\n",
       "    }\n",
       "\n",
       "    .dataframe tbody tr th {\n",
       "        vertical-align: top;\n",
       "    }\n",
       "\n",
       "    .dataframe thead th {\n",
       "        text-align: right;\n",
       "    }\n",
       "</style>\n",
       "<table border=\"1\" class=\"dataframe\">\n",
       "  <thead>\n",
       "    <tr style=\"text-align: right;\">\n",
       "      <th></th>\n",
       "      <th>ExPost_PriceChange_1D</th>\n",
       "      <th>ExPost_PriceChange_5D</th>\n",
       "      <th>ExPost_PriceChange_10D</th>\n",
       "      <th>ExAnte_PriceChange_1D</th>\n",
       "      <th>ExAnte_PriceChange_3D</th>\n",
       "      <th>ExAnte_PriceChange_5D</th>\n",
       "    </tr>\n",
       "  </thead>\n",
       "  <tbody>\n",
       "    <tr>\n",
       "      <th>0</th>\n",
       "      <td>0.005935</td>\n",
       "      <td>0.043229</td>\n",
       "      <td>0.059495</td>\n",
       "      <td>0.007307</td>\n",
       "      <td>0.020273</td>\n",
       "      <td>0.023566</td>\n",
       "    </tr>\n",
       "    <tr>\n",
       "      <th>1</th>\n",
       "      <td>0.007307</td>\n",
       "      <td>0.033979</td>\n",
       "      <td>0.049275</td>\n",
       "      <td>0.022816</td>\n",
       "      <td>0.020943</td>\n",
       "      <td>0.032488</td>\n",
       "    </tr>\n",
       "    <tr>\n",
       "      <th>2</th>\n",
       "      <td>0.022816</td>\n",
       "      <td>0.056566</td>\n",
       "      <td>0.071110</td>\n",
       "      <td>-0.009722</td>\n",
       "      <td>-0.006526</td>\n",
       "      <td>0.030897</td>\n",
       "    </tr>\n",
       "    <tr>\n",
       "      <th>3</th>\n",
       "      <td>-0.009722</td>\n",
       "      <td>0.025939</td>\n",
       "      <td>0.063237</td>\n",
       "      <td>0.007968</td>\n",
       "      <td>0.019366</td>\n",
       "      <td>0.043372</td>\n",
       "    </tr>\n",
       "    <tr>\n",
       "      <th>4</th>\n",
       "      <td>0.007968</td>\n",
       "      <td>0.034507</td>\n",
       "      <td>0.070638</td>\n",
       "      <td>-0.004703</td>\n",
       "      <td>0.032789</td>\n",
       "      <td>0.057238</td>\n",
       "    </tr>\n",
       "  </tbody>\n",
       "</table>\n",
       "</div>"
      ],
      "text/plain": [
       "   ExPost_PriceChange_1D  ExPost_PriceChange_5D  ExPost_PriceChange_10D  \\\n",
       "0               0.005935               0.043229                0.059495   \n",
       "1               0.007307               0.033979                0.049275   \n",
       "2               0.022816               0.056566                0.071110   \n",
       "3              -0.009722               0.025939                0.063237   \n",
       "4               0.007968               0.034507                0.070638   \n",
       "\n",
       "   ExAnte_PriceChange_1D  ExAnte_PriceChange_3D  ExAnte_PriceChange_5D  \n",
       "0               0.007307               0.020273               0.023566  \n",
       "1               0.022816               0.020943               0.032488  \n",
       "2              -0.009722              -0.006526               0.030897  \n",
       "3               0.007968               0.019366               0.043372  \n",
       "4              -0.004703               0.032789               0.057238  "
      ]
     },
     "execution_count": 6,
     "metadata": {},
     "output_type": "execute_result"
    }
   ],
   "source": [
    "# Loading the test target set\n",
    "\n",
    "y_test = pd.read_csv(\"../data/y_test.csv\")\n",
    "y_test.drop(y_test.columns[0], axis=1, inplace=True)\n",
    "y_test.head()"
   ]
  },
  {
   "cell_type": "code",
   "execution_count": 7,
   "metadata": {},
   "outputs": [
    {
     "name": "stdout",
     "output_type": "stream",
     "text": [
      "['Robinhood' 'Percentage_Volume' 'Year' 'Month' 'Day' 'Day_of_Week'\n",
      " 'Robinhood_Lag1' 'Robinhood_Lag2' 'Robinhood_Lag3' 'Robinhood_Lag4'\n",
      " 'Robinhood_Lag5' 'Robinhood_Lag6' 'Robinhood_Lag7'\n",
      " 'Percentage_Volume_Lag1' 'Percentage_Volume_Lag2'\n",
      " 'Percentage_Volume_Lag3' 'Percentage_Volume_Lag4'\n",
      " 'Percentage_Volume_Lag5' 'Percentage_Volume_Lag6'\n",
      " 'Percentage_Volume_Lag7' 'ExPost_PriceChange_1D_Lag1'\n",
      " 'ExPost_PriceChange_1D_Lag2' 'ExPost_PriceChange_1D_Lag3'\n",
      " 'ExPost_PriceChange_1D_Lag4' 'ExPost_PriceChange_1D_Lag5'\n",
      " 'ExPost_PriceChange_1D_Lag6' 'ExPost_PriceChange_1D_Lag7' 'SMA_3D'\n",
      " 'SMA_5D' 'SMA_10D' 'Expanded_Mean' 'Ticker_AAPL' 'Ticker_AMD'\n",
      " 'Ticker_AMZN' 'Ticker_BABA' 'Ticker_FB' 'Ticker_GOOGL' 'Ticker_INTC'\n",
      " 'Ticker_JPM' 'Ticker_MSFT' 'Ticker_NFLX' 'Ticker_NKE' 'Ticker_NVDA'\n",
      " 'Ticker_PYPL' 'Ticker_SNAP' 'Ticker_SQ' 'Ticker_T' 'Ticker_TSLA'\n",
      " 'Ticker_TWTR' 'Ticker_V' 'Ticker_ZNGA']\n",
      "['ExPost_PriceChange_1D' 'ExPost_PriceChange_5D' 'ExPost_PriceChange_10D'\n",
      " 'ExAnte_PriceChange_1D' 'ExAnte_PriceChange_3D' 'ExAnte_PriceChange_5D']\n"
     ]
    }
   ],
   "source": [
    "# Let's save our feature and target labels\n",
    "\n",
    "X_labels = X_train.columns.values\n",
    "print(X_labels)\n",
    "\n",
    "y_labels = y_train.columns.values\n",
    "print(y_labels)"
   ]
  },
  {
   "cell_type": "markdown",
   "metadata": {},
   "source": [
    "# Algorithm 1 - SVM Regression\n",
    "\n",
    "First, let's try Support Vector Machine Regression (SVM) and optimize each model using hyperparamter tuning.\n",
    "\n",
    "The relevant hyperparamters for SVM are C (regularization), gamma (kernel coefficient), and the kernel - which we will stick to the default of radial basis function or rbf. "
   ]
  },
  {
   "cell_type": "code",
   "execution_count": 8,
   "metadata": {},
   "outputs": [
    {
     "name": "stdout",
     "output_type": "stream",
     "text": [
      "Fitting 5 folds for each of 25 candidates, totalling 125 fits\n"
     ]
    },
    {
     "name": "stderr",
     "output_type": "stream",
     "text": [
      "[Parallel(n_jobs=-1)]: Using backend LokyBackend with 12 concurrent workers.\n",
      "[Parallel(n_jobs=-1)]: Done   8 tasks      | elapsed:    2.1s\n",
      "[Parallel(n_jobs=-1)]: Done 102 out of 125 | elapsed:    2.9s remaining:    0.6s\n",
      "[Parallel(n_jobs=-1)]: Done 125 out of 125 | elapsed:    2.9s finished\n"
     ]
    },
    {
     "name": "stdout",
     "output_type": "stream",
     "text": [
      "Best SVM Model for ExPost_PriceChange_1D: SVR(C=1, gamma=0.0001)\n",
      "RMSE for ExPost_PriceChange_1D: 0.03968665365302518\n",
      "Fit time (seconds): 3.185997724533081\n",
      "Predict time (seconds): 0.010998725891113281\n",
      "Fitting 5 folds for each of 25 candidates, totalling 125 fits\n"
     ]
    },
    {
     "name": "stderr",
     "output_type": "stream",
     "text": [
      "[Parallel(n_jobs=-1)]: Using backend LokyBackend with 12 concurrent workers.\n",
      "[Parallel(n_jobs=-1)]: Done   8 tasks      | elapsed:    0.3s\n",
      "[Parallel(n_jobs=-1)]: Done 125 out of 125 | elapsed:    4.0s finished\n"
     ]
    },
    {
     "name": "stdout",
     "output_type": "stream",
     "text": [
      "Best SVM Model for ExPost_PriceChange_5D: SVR(C=1, gamma=0.001)\n",
      "RMSE for ExPost_PriceChange_5D: 0.08077804721837101\n",
      "Fit time (seconds): 4.50801157951355\n",
      "Predict time (seconds): 0.07799911499023438\n",
      "Fitting 5 folds for each of 25 candidates, totalling 125 fits\n"
     ]
    },
    {
     "name": "stderr",
     "output_type": "stream",
     "text": [
      "[Parallel(n_jobs=-1)]: Using backend LokyBackend with 12 concurrent workers.\n",
      "[Parallel(n_jobs=-1)]: Done   8 tasks      | elapsed:    0.8s\n",
      "[Parallel(n_jobs=-1)]: Done 125 out of 125 | elapsed:    8.3s finished\n"
     ]
    },
    {
     "name": "stdout",
     "output_type": "stream",
     "text": [
      "Best SVM Model for ExPost_PriceChange_10D: SVR(C=1, gamma=0.001)\n",
      "RMSE for ExPost_PriceChange_10D: 0.11048981909597941\n",
      "Fit time (seconds): 9.129003047943115\n",
      "Predict time (seconds): 0.1699979305267334\n",
      "Fitting 5 folds for each of 25 candidates, totalling 125 fits\n"
     ]
    },
    {
     "name": "stderr",
     "output_type": "stream",
     "text": [
      "[Parallel(n_jobs=-1)]: Using backend LokyBackend with 12 concurrent workers.\n",
      "[Parallel(n_jobs=-1)]: Done   8 tasks      | elapsed:    0.0s\n",
      "[Parallel(n_jobs=-1)]: Done 102 out of 125 | elapsed:    0.6s remaining:    0.1s\n",
      "[Parallel(n_jobs=-1)]: Done 125 out of 125 | elapsed:    0.7s finished\n"
     ]
    },
    {
     "name": "stdout",
     "output_type": "stream",
     "text": [
      "Best SVM Model for ExAnte_PriceChange_1D: SVR(C=1, gamma=0.0001)\n",
      "RMSE for ExAnte_PriceChange_1D: 0.03973454692407731\n",
      "Fit time (seconds): 0.9290001392364502\n",
      "Predict time (seconds): 0.010998725891113281\n",
      "Fitting 5 folds for each of 25 candidates, totalling 125 fits\n"
     ]
    },
    {
     "name": "stderr",
     "output_type": "stream",
     "text": [
      "[Parallel(n_jobs=-1)]: Using backend LokyBackend with 12 concurrent workers.\n",
      "[Parallel(n_jobs=-1)]: Done   8 tasks      | elapsed:    0.1s\n",
      "[Parallel(n_jobs=-1)]: Done 102 out of 125 | elapsed:    1.8s remaining:    0.3s\n",
      "[Parallel(n_jobs=-1)]: Done 125 out of 125 | elapsed:    2.0s finished\n"
     ]
    },
    {
     "name": "stdout",
     "output_type": "stream",
     "text": [
      "Best SVM Model for ExAnte_PriceChange_3D: SVR(C=1, gamma=1)\n",
      "RMSE for ExAnte_PriceChange_3D: 0.06241421814081731\n",
      "Fit time (seconds): 2.3000097274780273\n",
      "Predict time (seconds): 0.03799843788146973\n",
      "Fitting 5 folds for each of 25 candidates, totalling 125 fits\n"
     ]
    },
    {
     "name": "stderr",
     "output_type": "stream",
     "text": [
      "[Parallel(n_jobs=-1)]: Using backend LokyBackend with 12 concurrent workers.\n",
      "[Parallel(n_jobs=-1)]: Done   8 tasks      | elapsed:    0.3s\n",
      "[Parallel(n_jobs=-1)]: Done 125 out of 125 | elapsed:    3.9s finished\n"
     ]
    },
    {
     "name": "stdout",
     "output_type": "stream",
     "text": [
      "Best SVM Model for ExAnte_PriceChange_5D: SVR(C=1, gamma=1)\n",
      "RMSE for ExAnte_PriceChange_5D: 0.08109881950355158\n",
      "Fit time (seconds): 4.375000238418579\n",
      "Predict time (seconds): 0.07799935340881348\n"
     ]
    }
   ],
   "source": [
    "#Note: each algorithm block can be run independently of one another\n",
    "\n",
    "from sklearn.svm import SVR\n",
    "\n",
    "param_grid1 = {'C': [0.1, 1, 10, 100, 1000],  \n",
    "              'gamma': [1, 0.1, 0.01, 0.001, 0.0001], \n",
    "              'kernel': ['rbf']}\n",
    "\n",
    "N_targets = len(y_labels)\n",
    "\n",
    "# Lists to keep track of the best models, errors, fit, predict times across the multiple targets\n",
    "SVM_models = []\n",
    "SVM_errors = []\n",
    "SVM_fit_times = []\n",
    "SVM_predict_times = []\n",
    "\n",
    "for i in range(N_targets):\n",
    "    \n",
    "    # Setting up the estimator and Grid Search 5-fold CV\n",
    "    estimator1 = SVR()\n",
    "    grid_search1 = GridSearchCV(estimator = estimator1, param_grid = param_grid1, n_jobs=-1, verbose=3)\n",
    "    \n",
    "    # Fitting the data and also tracking the fit times\n",
    "    start=time.time()\n",
    "    grid_search1.fit(X_train,y_train.iloc[:,i])\n",
    "    end=time.time()\n",
    "    SVM_fit_times.append(end-start)\n",
    "    \n",
    "    # Outputting the best model parameters from our Grid Search\n",
    "    SVM_models.append(grid_search1.best_estimator_)\n",
    "    print('Best SVM Model for ' + y_labels[i] + ': ' + str(SVM_models[i]))\n",
    "    \n",
    "    # Predicting using our fitted model and also tracking the predict times\n",
    "    start=time.time()\n",
    "    y_pred = SVM_models[i].predict(X_test)\n",
    "    end=time.time()\n",
    "    SVM_predict_times.append(end-start)\n",
    "    \n",
    "    # Tracking the RMSE for each model\n",
    "    SVM_errors.append(mean_squared_error(y_test.iloc[:,i],y_pred, squared=False))\n",
    "    print('RMSE for ' + y_labels[i] + ': ' + str(SVM_errors[i]))\n",
    "    \n",
    "    # Outputting the fit and predict times for each model\n",
    "    print('Fit time (seconds)' + ': ' + str(SVM_fit_times[i]))\n",
    "    print('Predict time (seconds)' + ': ' + str(SVM_predict_times[i]))\n"
   ]
  },
  {
   "cell_type": "markdown",
   "metadata": {},
   "source": [
    "# Algorithm 2 - K Nearest Neighbors Regression\n",
    "\n",
    "Second, let's try K Nearest Neighbors (KNN) Regression and optimize each model using hyperparamter tuning.\n",
    "\n",
    "The relevant hyperparameters for KNN are leaf_size, n_neighbors (number of neighbors), and p - 1 corresponds to the L1 Manhattan metric and 2 corresponds to the L2 Euclidean metric."
   ]
  },
  {
   "cell_type": "code",
   "execution_count": 9,
   "metadata": {},
   "outputs": [
    {
     "name": "stdout",
     "output_type": "stream",
     "text": [
      "Fitting 5 folds for each of 580 candidates, totalling 2900 fits\n"
     ]
    },
    {
     "name": "stderr",
     "output_type": "stream",
     "text": [
      "[Parallel(n_jobs=-1)]: Using backend LokyBackend with 12 concurrent workers.\n",
      "[Parallel(n_jobs=-1)]: Done   8 tasks      | elapsed:    0.2s\n",
      "[Parallel(n_jobs=-1)]: Done 104 tasks      | elapsed:    1.9s\n",
      "[Parallel(n_jobs=-1)]: Done 264 tasks      | elapsed:    5.4s\n",
      "[Parallel(n_jobs=-1)]: Done 488 tasks      | elapsed:    8.5s\n",
      "[Parallel(n_jobs=-1)]: Done 776 tasks      | elapsed:   12.1s\n",
      "[Parallel(n_jobs=-1)]: Done 1128 tasks      | elapsed:   16.2s\n",
      "[Parallel(n_jobs=-1)]: Done 1544 tasks      | elapsed:   20.7s\n",
      "[Parallel(n_jobs=-1)]: Done 2024 tasks      | elapsed:   25.6s\n",
      "[Parallel(n_jobs=-1)]: Done 2568 tasks      | elapsed:   31.1s\n",
      "[Parallel(n_jobs=-1)]: Done 2900 out of 2900 | elapsed:   34.3s finished\n"
     ]
    },
    {
     "name": "stdout",
     "output_type": "stream",
     "text": [
      "Best KNN Model for ExPost_PriceChange_1D: KNeighborsRegressor(leaf_size=1, n_neighbors=29, p=1)\n",
      "RMSE for ExPost_PriceChange_1D: 0.03997505152508999\n",
      "Fit time (seconds): 34.58099937438965\n",
      "Predict time (seconds): 0.07200121879577637\n",
      "Fitting 5 folds for each of 580 candidates, totalling 2900 fits\n"
     ]
    },
    {
     "name": "stderr",
     "output_type": "stream",
     "text": [
      "[Parallel(n_jobs=-1)]: Using backend LokyBackend with 12 concurrent workers.\n",
      "[Parallel(n_jobs=-1)]: Done   8 tasks      | elapsed:    0.1s\n",
      "[Parallel(n_jobs=-1)]: Done 184 tasks      | elapsed:    3.7s\n",
      "[Parallel(n_jobs=-1)]: Done 504 tasks      | elapsed:    8.6s\n",
      "[Parallel(n_jobs=-1)]: Done 952 tasks      | elapsed:   13.8s\n",
      "[Parallel(n_jobs=-1)]: Done 1528 tasks      | elapsed:   20.0s\n",
      "[Parallel(n_jobs=-1)]: Done 2232 tasks      | elapsed:   27.0s\n",
      "[Parallel(n_jobs=-1)]: Done 2900 out of 2900 | elapsed:   33.3s finished\n"
     ]
    },
    {
     "name": "stdout",
     "output_type": "stream",
     "text": [
      "Best KNN Model for ExPost_PriceChange_5D: KNeighborsRegressor(leaf_size=1, n_neighbors=29, p=1)\n",
      "RMSE for ExPost_PriceChange_5D: 0.08343614765047043\n",
      "Fit time (seconds): 33.593998193740845\n",
      "Predict time (seconds): 0.0709991455078125\n",
      "Fitting 5 folds for each of 580 candidates, totalling 2900 fits\n"
     ]
    },
    {
     "name": "stderr",
     "output_type": "stream",
     "text": [
      "[Parallel(n_jobs=-1)]: Using backend LokyBackend with 12 concurrent workers.\n",
      "[Parallel(n_jobs=-1)]: Done   8 tasks      | elapsed:    0.1s\n",
      "[Parallel(n_jobs=-1)]: Done 184 tasks      | elapsed:    3.7s\n",
      "[Parallel(n_jobs=-1)]: Done 504 tasks      | elapsed:    8.7s\n",
      "[Parallel(n_jobs=-1)]: Done 952 tasks      | elapsed:   13.9s\n",
      "[Parallel(n_jobs=-1)]: Done 1528 tasks      | elapsed:   20.1s\n",
      "[Parallel(n_jobs=-1)]: Done 2232 tasks      | elapsed:   27.1s\n",
      "[Parallel(n_jobs=-1)]: Done 2877 out of 2900 | elapsed:   33.3s remaining:    0.2s\n",
      "[Parallel(n_jobs=-1)]: Done 2900 out of 2900 | elapsed:   33.4s finished\n"
     ]
    },
    {
     "name": "stdout",
     "output_type": "stream",
     "text": [
      "Best KNN Model for ExPost_PriceChange_10D: KNeighborsRegressor(leaf_size=1, n_neighbors=29)\n",
      "RMSE for ExPost_PriceChange_10D: 0.11575369601190362\n",
      "Fit time (seconds): 33.735010623931885\n",
      "Predict time (seconds): 0.20999956130981445\n",
      "Fitting 5 folds for each of 580 candidates, totalling 2900 fits\n"
     ]
    },
    {
     "name": "stderr",
     "output_type": "stream",
     "text": [
      "[Parallel(n_jobs=-1)]: Using backend LokyBackend with 12 concurrent workers.\n",
      "[Parallel(n_jobs=-1)]: Done   8 tasks      | elapsed:    0.1s\n",
      "[Parallel(n_jobs=-1)]: Done 184 tasks      | elapsed:    3.7s\n",
      "[Parallel(n_jobs=-1)]: Done 504 tasks      | elapsed:    8.7s\n",
      "[Parallel(n_jobs=-1)]: Done 952 tasks      | elapsed:   13.9s\n",
      "[Parallel(n_jobs=-1)]: Done 1528 tasks      | elapsed:   20.1s\n",
      "[Parallel(n_jobs=-1)]: Done 2232 tasks      | elapsed:   27.1s\n",
      "[Parallel(n_jobs=-1)]: Done 2877 out of 2900 | elapsed:   33.4s remaining:    0.2s\n",
      "[Parallel(n_jobs=-1)]: Done 2900 out of 2900 | elapsed:   33.6s finished\n"
     ]
    },
    {
     "name": "stdout",
     "output_type": "stream",
     "text": [
      "Best KNN Model for ExAnte_PriceChange_1D: KNeighborsRegressor(leaf_size=1, n_neighbors=29, p=1)\n",
      "RMSE for ExAnte_PriceChange_1D: 0.04007392378050608\n",
      "Fit time (seconds): 33.89701247215271\n",
      "Predict time (seconds): 0.07100105285644531\n",
      "Fitting 5 folds for each of 580 candidates, totalling 2900 fits\n"
     ]
    },
    {
     "name": "stderr",
     "output_type": "stream",
     "text": [
      "[Parallel(n_jobs=-1)]: Using backend LokyBackend with 12 concurrent workers.\n",
      "[Parallel(n_jobs=-1)]: Done   8 tasks      | elapsed:    0.1s\n",
      "[Parallel(n_jobs=-1)]: Done 184 tasks      | elapsed:    3.8s\n",
      "[Parallel(n_jobs=-1)]: Done 504 tasks      | elapsed:    8.8s\n",
      "[Parallel(n_jobs=-1)]: Done 952 tasks      | elapsed:   14.3s\n",
      "[Parallel(n_jobs=-1)]: Done 1528 tasks      | elapsed:   20.6s\n",
      "[Parallel(n_jobs=-1)]: Done 2232 tasks      | elapsed:   27.7s\n",
      "[Parallel(n_jobs=-1)]: Done 2877 out of 2900 | elapsed:   34.1s remaining:    0.2s\n",
      "[Parallel(n_jobs=-1)]: Done 2900 out of 2900 | elapsed:   34.3s finished\n"
     ]
    },
    {
     "name": "stdout",
     "output_type": "stream",
     "text": [
      "Best KNN Model for ExAnte_PriceChange_3D: KNeighborsRegressor(leaf_size=1, n_neighbors=29, p=1)\n",
      "RMSE for ExAnte_PriceChange_3D: 0.06389203935479772\n",
      "Fit time (seconds): 34.57200026512146\n",
      "Predict time (seconds): 0.07099723815917969\n",
      "Fitting 5 folds for each of 580 candidates, totalling 2900 fits\n"
     ]
    },
    {
     "name": "stderr",
     "output_type": "stream",
     "text": [
      "[Parallel(n_jobs=-1)]: Using backend LokyBackend with 12 concurrent workers.\n",
      "[Parallel(n_jobs=-1)]: Done   8 tasks      | elapsed:    0.1s\n",
      "[Parallel(n_jobs=-1)]: Done 184 tasks      | elapsed:    3.8s\n",
      "[Parallel(n_jobs=-1)]: Done 504 tasks      | elapsed:    8.8s\n",
      "[Parallel(n_jobs=-1)]: Done 952 tasks      | elapsed:   14.3s\n",
      "[Parallel(n_jobs=-1)]: Done 1528 tasks      | elapsed:   20.5s\n",
      "[Parallel(n_jobs=-1)]: Done 2232 tasks      | elapsed:   27.6s\n",
      "[Parallel(n_jobs=-1)]: Done 2877 out of 2900 | elapsed:   33.9s remaining:    0.2s\n",
      "[Parallel(n_jobs=-1)]: Done 2900 out of 2900 | elapsed:   34.1s finished\n"
     ]
    },
    {
     "name": "stdout",
     "output_type": "stream",
     "text": [
      "Best KNN Model for ExAnte_PriceChange_5D: KNeighborsRegressor(leaf_size=1, n_neighbors=29, p=1)\n",
      "RMSE for ExAnte_PriceChange_5D: 0.08361848645699327\n",
      "Fit time (seconds): 34.41101121902466\n",
      "Predict time (seconds): 0.07199907302856445\n"
     ]
    }
   ],
   "source": [
    "#Note: each algorithm block can be run independently of one another\n",
    "\n",
    "from sklearn.neighbors import KNeighborsRegressor\n",
    "\n",
    "param_grid2 = {'leaf_size': range(1,50,5),  \n",
    "              'n_neighbors': range(1,30), \n",
    "              'p': [1,2]}\n",
    "\n",
    "N_targets = len(y_labels)\n",
    "\n",
    "# Lists to keep track of the best models, errors, fit, predict times across the multiple targets\n",
    "KNN_models = []\n",
    "KNN_errors = []\n",
    "KNN_fit_times = []\n",
    "KNN_predict_times = []\n",
    "\n",
    "for i in range(N_targets):\n",
    "    \n",
    "    # Setting up the estimator and Grid Search 5-fold CV\n",
    "    estimator2 = KNeighborsRegressor()\n",
    "    grid_search2 = GridSearchCV(estimator = estimator2, param_grid = param_grid2, n_jobs=-1, verbose=3)\n",
    "    \n",
    "    # Fitting the data and also tracking the fit times\n",
    "    start=time.time()\n",
    "    grid_search2.fit(X_train,y_train.iloc[:,i])\n",
    "    end=time.time()\n",
    "    KNN_fit_times.append(end-start)\n",
    "    \n",
    "    # Outputting the best model parameters from our Grid Search\n",
    "    KNN_models.append(grid_search2.best_estimator_)\n",
    "    print('Best KNN Model for ' + y_labels[i] + ': ' + str(KNN_models[i]))\n",
    "    \n",
    "    # Predicting using our fitted model and also tracking the predict times\n",
    "    start=time.time()\n",
    "    y_pred = KNN_models[i].predict(X_test)\n",
    "    end=time.time()\n",
    "    KNN_predict_times.append(end-start)\n",
    "    \n",
    "    # Tracking the RMSE for each model\n",
    "    KNN_errors.append(mean_squared_error(y_test.iloc[:,i],y_pred, squared=False))\n",
    "    print('RMSE for ' + y_labels[i] + ': ' + str(KNN_errors[i]))\n",
    "    \n",
    "    # Outputting the fit and predict times for each model\n",
    "    print('Fit time (seconds)' + ': ' + str(KNN_fit_times[i]))\n",
    "    print('Predict time (seconds)' + ': ' + str(KNN_predict_times[i]))"
   ]
  },
  {
   "cell_type": "markdown",
   "metadata": {},
   "source": [
    "# Algorithm 3 - Gradient Boosted Machine Regression\n",
    "\n",
    "Finally, let's try Gradient Boosted Machine (GBM) Regression and optimize each model using hyperparamter tuning.\n",
    "\n",
    "The relevant hyperparameters for GBM are n_estimators (number of boosting stages), learning_rate (controls the contribution of each tree), max_depth (maximum depth of te individual regression estimators), and min_samples_leaf (minimum number of sampels required to be at each leaf node)."
   ]
  },
  {
   "cell_type": "code",
   "execution_count": null,
   "metadata": {
    "scrolled": false
   },
   "outputs": [
    {
     "name": "stderr",
     "output_type": "stream",
     "text": [
      "[Parallel(n_jobs=-1)]: Using backend LokyBackend with 12 concurrent workers.\n"
     ]
    },
    {
     "name": "stdout",
     "output_type": "stream",
     "text": [
      "Fitting 5 folds for each of 27 candidates, totalling 135 fits\n"
     ]
    },
    {
     "name": "stderr",
     "output_type": "stream",
     "text": [
      "[Parallel(n_jobs=-1)]: Done   8 tasks      | elapsed:   19.8s\n",
      "[Parallel(n_jobs=-1)]: Done 104 tasks      | elapsed:  6.4min\n",
      "[Parallel(n_jobs=-1)]: Done 135 out of 135 | elapsed: 10.4min finished\n"
     ]
    },
    {
     "name": "stdout",
     "output_type": "stream",
     "text": [
      "Best GBM Model for ExPost_PriceChange_1D: GradientBoostingRegressor(max_depth=4, min_samples_leaf=8, n_estimators=1000)\n",
      "RMSE for ExPost_PriceChange_1D: 0.013019266196539604\n",
      "Fit time (seconds): 676.4830572605133\n",
      "Predict time (seconds): 0.027998924255371094\n",
      "Fitting 5 folds for each of 27 candidates, totalling 135 fits\n"
     ]
    },
    {
     "name": "stderr",
     "output_type": "stream",
     "text": [
      "[Parallel(n_jobs=-1)]: Using backend LokyBackend with 12 concurrent workers.\n",
      "[Parallel(n_jobs=-1)]: Done   8 tasks      | elapsed:   19.7s\n",
      "[Parallel(n_jobs=-1)]: Done 104 tasks      | elapsed:  6.6min\n",
      "[Parallel(n_jobs=-1)]: Done 135 out of 135 | elapsed: 10.6min finished\n"
     ]
    },
    {
     "name": "stdout",
     "output_type": "stream",
     "text": [
      "Best GBM Model for ExPost_PriceChange_5D: GradientBoostingRegressor(max_depth=4, min_samples_leaf=2, n_estimators=1000)\n",
      "RMSE for ExPost_PriceChange_5D: 0.009088556477699872\n",
      "Fit time (seconds): 691.588529586792\n",
      "Predict time (seconds): 0.026999473571777344\n",
      "Fitting 5 folds for each of 27 candidates, totalling 135 fits\n"
     ]
    },
    {
     "name": "stderr",
     "output_type": "stream",
     "text": [
      "[Parallel(n_jobs=-1)]: Using backend LokyBackend with 12 concurrent workers.\n",
      "[Parallel(n_jobs=-1)]: Done   8 tasks      | elapsed:   19.6s\n",
      "[Parallel(n_jobs=-1)]: Done 104 tasks      | elapsed:  6.5min\n",
      "[Parallel(n_jobs=-1)]: Done 135 out of 135 | elapsed: 10.5min finished\n"
     ]
    },
    {
     "name": "stdout",
     "output_type": "stream",
     "text": [
      "Best GBM Model for ExPost_PriceChange_10D: GradientBoostingRegressor(max_depth=4, min_samples_leaf=2, n_estimators=1000)\n",
      "RMSE for ExPost_PriceChange_10D: 0.01289229786682064\n",
      "Fit time (seconds): 685.8478288650513\n",
      "Predict time (seconds): 0.025998592376708984\n",
      "Fitting 5 folds for each of 27 candidates, totalling 135 fits\n"
     ]
    },
    {
     "name": "stderr",
     "output_type": "stream",
     "text": [
      "[Parallel(n_jobs=-1)]: Using backend LokyBackend with 12 concurrent workers.\n",
      "[Parallel(n_jobs=-1)]: Done   8 tasks      | elapsed:   20.0s\n",
      "[Parallel(n_jobs=-1)]: Done 104 tasks      | elapsed:  6.5min\n",
      "[Parallel(n_jobs=-1)]: Done 135 out of 135 | elapsed: 10.3min finished\n"
     ]
    },
    {
     "name": "stdout",
     "output_type": "stream",
     "text": [
      "Best GBM Model for ExAnte_PriceChange_1D: GradientBoostingRegressor(max_depth=8, min_samples_leaf=5)\n",
      "RMSE for ExAnte_PriceChange_1D: 0.04070243340125489\n",
      "Fit time (seconds): 628.1426687240601\n",
      "Predict time (seconds): 0.008997917175292969\n",
      "Fitting 5 folds for each of 27 candidates, totalling 135 fits\n"
     ]
    },
    {
     "name": "stderr",
     "output_type": "stream",
     "text": [
      "[Parallel(n_jobs=-1)]: Using backend LokyBackend with 12 concurrent workers.\n",
      "[Parallel(n_jobs=-1)]: Done   8 tasks      | elapsed:   19.5s\n",
      "[Parallel(n_jobs=-1)]: Done 104 tasks      | elapsed:  6.3min\n",
      "[Parallel(n_jobs=-1)]: Done 135 out of 135 | elapsed: 10.2min finished\n"
     ]
    },
    {
     "name": "stdout",
     "output_type": "stream",
     "text": [
      "Best GBM Model for ExAnte_PriceChange_3D: GradientBoostingRegressor(max_depth=8, min_samples_leaf=2)\n",
      "RMSE for ExAnte_PriceChange_3D: 0.06801438254723491\n",
      "Fit time (seconds): 619.8400003910065\n",
      "Predict time (seconds): 0.008999824523925781\n",
      "Fitting 5 folds for each of 27 candidates, totalling 135 fits\n"
     ]
    },
    {
     "name": "stderr",
     "output_type": "stream",
     "text": [
      "[Parallel(n_jobs=-1)]: Using backend LokyBackend with 12 concurrent workers.\n",
      "[Parallel(n_jobs=-1)]: Done   8 tasks      | elapsed:   19.3s\n",
      "[Parallel(n_jobs=-1)]: Done 104 tasks      | elapsed:  6.7min\n"
     ]
    }
   ],
   "source": [
    "#Note: each algorithm block can be run independently of one another\n",
    "\n",
    "from sklearn.ensemble import GradientBoostingRegressor\n",
    "\n",
    "param_grid3 = {'n_estimators':[100, 500, 1000], \n",
    "               'learning_rate': [0.1],\n",
    "               'max_depth':[4, 6, 8], \n",
    "               'min_samples_leaf':[2, 5, 8]}\n",
    "\n",
    "N_targets = len(y_labels)\n",
    "\n",
    "# Lists to keep track of the best models, errors, fit, predict times across the multiple targets\n",
    "GBM_models = []\n",
    "GBM_errors = []\n",
    "GBM_fit_times = []\n",
    "GBM_predict_times = []\n",
    "\n",
    "for i in range(N_targets):\n",
    "    \n",
    "    # Setting up the estimator and Grid Search 5-fold CV\n",
    "    estimator3 = GradientBoostingRegressor()\n",
    "    grid_search3 = GridSearchCV(estimator = estimator3, param_grid = param_grid3, n_jobs=-1, verbose=3)\n",
    "    \n",
    "    # Fitting the data and also tracking the fit times\n",
    "    start=time.time()\n",
    "    grid_search3.fit(X_train,y_train.iloc[:,i])\n",
    "    end=time.time()\n",
    "    GBM_fit_times.append(end-start)\n",
    "    \n",
    "    # Outputting the best model parameters from our Grid Search\n",
    "    GBM_models.append(grid_search3.best_estimator_)\n",
    "    print('Best GBM Model for ' + y_labels[i] + ': ' + str(GBM_models[i]))\n",
    "    \n",
    "    # Predicting using our fitted model and also tracking the predict times\n",
    "    start=time.time()\n",
    "    y_pred = GBM_models[i].predict(X_test)\n",
    "    end=time.time()\n",
    "    GBM_predict_times.append(end-start)\n",
    "    \n",
    "    # Tracking the RMSE for each model\n",
    "    GBM_errors.append(mean_squared_error(y_test.iloc[:,i],y_pred, squared=False))\n",
    "    print('RMSE for ' + y_labels[i] + ': ' + str(GBM_errors[i]))\n",
    "    \n",
    "    # Outputting the fit and predict times for each model\n",
    "    print('Fit time (seconds)' + ': ' + str(GBM_fit_times[i]))\n",
    "    print('Predict time (seconds)' + ': ' + str(GBM_predict_times[i]))"
   ]
  },
  {
   "cell_type": "markdown",
   "metadata": {},
   "source": [
    "# Model Results  / Analysis\n",
    "\n",
    "In this section, we'll be reviewing the results of the optimal models generated by the three algorithms.\n",
    "\n",
    "We will be reviewing the RMSE, fit and predict times to evaluate the effectiveness of each algorithm and model."
   ]
  },
  {
   "cell_type": "code",
   "execution_count": null,
   "metadata": {},
   "outputs": [],
   "source": [
    "# First, let's shape our output so it can be easily plotted for seaborn visualization\n",
    "\n",
    "# SVM output\n",
    "df_SVM = pd.DataFrame(np.vstack([SVM_errors, SVM_fit_times, SVM_fit_times]).T,\n",
    "                      columns=['RMSE', 'Fit_Time', 'Predict_Time'])\n",
    "df_SVM['Model']='SVM'\n",
    "df_SVM['Target']=y_labels\n",
    "\n",
    "# KNN output\n",
    "df_KNN = pd.DataFrame(np.vstack([KNN_errors, KNN_fit_times, KNN_fit_times]).T,\n",
    "                      columns=['RMSE', 'Fit_Time', 'Predict_Time'])\n",
    "df_KNN['Model']='KNN'\n",
    "df_KNN['Target']=y_labels\n",
    "\n",
    "# GBM output\n",
    "df_GBM = pd.DataFrame(np.vstack([GBM_errors, GBM_fit_times, GBM_fit_times]).T,\n",
    "                      columns=['RMSE', 'Fit_Time', 'Predict_Time']])\n",
    "df_GBM['Model']='GBM'\n",
    "df_GBM['Target']=y_labels\n",
    "\n",
    "# Finally, let's merge all the datasets together\n",
    "df_RMSE = pd.concat([df_SVM, df_KNN, df_GBM]).reset_index(drop=True)\n",
    "df_RMSE"
   ]
  },
  {
   "cell_type": "code",
   "execution_count": null,
   "metadata": {},
   "outputs": [],
   "source": [
    "# Let's plot the RMSE errors for each of our targets across each of the algorithms\n",
    "\n",
    "fig, ax = plt.subplots(figsize=(12,6))\n",
    "plt.xticks(rotation=45)\n",
    "_ = sns.barplot(data=df_RMSE, x='Target', y='RMSE', hue='Model', ax = ax)"
   ]
  },
  {
   "cell_type": "code",
   "execution_count": null,
   "metadata": {},
   "outputs": [],
   "source": [
    "# Similar plot for the fit / training times\n",
    "\n",
    "fig, ax = plt.subplots(figsize=(12,6))\n",
    "plt.xticks(rotation=45)\n",
    "_ = sns.barplot(data=df_RMSE, x='Target', y='RMSE', hue='Fit_Time', ax = ax)"
   ]
  },
  {
   "cell_type": "code",
   "execution_count": null,
   "metadata": {},
   "outputs": [],
   "source": [
    "# Similar plot for the predict times\n",
    "\n",
    "fig, ax = plt.subplots(figsize=(12,6))\n",
    "plt.xticks(rotation=45)\n",
    "_ = sns.barplot(data=df_RMSE, x='Target', y='RMSE', hue='Predict_Time', ax = ax)"
   ]
  }
 ],
 "metadata": {
  "kernelspec": {
   "display_name": "Python 3",
   "language": "python",
   "name": "python3"
  },
  "language_info": {
   "codemirror_mode": {
    "name": "ipython",
    "version": 3
   },
   "file_extension": ".py",
   "mimetype": "text/x-python",
   "name": "python",
   "nbconvert_exporter": "python",
   "pygments_lexer": "ipython3",
   "version": "3.7.6"
  }
 },
 "nbformat": 4,
 "nbformat_minor": 4
}
