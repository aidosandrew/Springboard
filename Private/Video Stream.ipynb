{
 "cells": [
  {
   "cell_type": "code",
   "execution_count": 1,
   "metadata": {},
   "outputs": [
    {
     "name": "stderr",
     "output_type": "stream",
     "text": [
      "Using TensorFlow backend.\n",
      "C:\\ProgramData\\Anaconda3\\lib\\site-packages\\tensorflow\\python\\framework\\dtypes.py:516: FutureWarning: Passing (type, 1) or '1type' as a synonym of type is deprecated; in a future version of numpy, it will be understood as (type, (1,)) / '(1,)type'.\n",
      "  _np_qint8 = np.dtype([(\"qint8\", np.int8, 1)])\n",
      "C:\\ProgramData\\Anaconda3\\lib\\site-packages\\tensorflow\\python\\framework\\dtypes.py:517: FutureWarning: Passing (type, 1) or '1type' as a synonym of type is deprecated; in a future version of numpy, it will be understood as (type, (1,)) / '(1,)type'.\n",
      "  _np_quint8 = np.dtype([(\"quint8\", np.uint8, 1)])\n",
      "C:\\ProgramData\\Anaconda3\\lib\\site-packages\\tensorflow\\python\\framework\\dtypes.py:518: FutureWarning: Passing (type, 1) or '1type' as a synonym of type is deprecated; in a future version of numpy, it will be understood as (type, (1,)) / '(1,)type'.\n",
      "  _np_qint16 = np.dtype([(\"qint16\", np.int16, 1)])\n",
      "C:\\ProgramData\\Anaconda3\\lib\\site-packages\\tensorflow\\python\\framework\\dtypes.py:519: FutureWarning: Passing (type, 1) or '1type' as a synonym of type is deprecated; in a future version of numpy, it will be understood as (type, (1,)) / '(1,)type'.\n",
      "  _np_quint16 = np.dtype([(\"quint16\", np.uint16, 1)])\n",
      "C:\\ProgramData\\Anaconda3\\lib\\site-packages\\tensorflow\\python\\framework\\dtypes.py:520: FutureWarning: Passing (type, 1) or '1type' as a synonym of type is deprecated; in a future version of numpy, it will be understood as (type, (1,)) / '(1,)type'.\n",
      "  _np_qint32 = np.dtype([(\"qint32\", np.int32, 1)])\n",
      "C:\\ProgramData\\Anaconda3\\lib\\site-packages\\tensorflow\\python\\framework\\dtypes.py:525: FutureWarning: Passing (type, 1) or '1type' as a synonym of type is deprecated; in a future version of numpy, it will be understood as (type, (1,)) / '(1,)type'.\n",
      "  np_resource = np.dtype([(\"resource\", np.ubyte, 1)])\n",
      "C:\\ProgramData\\Anaconda3\\lib\\site-packages\\tensorboard\\compat\\tensorflow_stub\\dtypes.py:541: FutureWarning: Passing (type, 1) or '1type' as a synonym of type is deprecated; in a future version of numpy, it will be understood as (type, (1,)) / '(1,)type'.\n",
      "  _np_qint8 = np.dtype([(\"qint8\", np.int8, 1)])\n",
      "C:\\ProgramData\\Anaconda3\\lib\\site-packages\\tensorboard\\compat\\tensorflow_stub\\dtypes.py:542: FutureWarning: Passing (type, 1) or '1type' as a synonym of type is deprecated; in a future version of numpy, it will be understood as (type, (1,)) / '(1,)type'.\n",
      "  _np_quint8 = np.dtype([(\"quint8\", np.uint8, 1)])\n",
      "C:\\ProgramData\\Anaconda3\\lib\\site-packages\\tensorboard\\compat\\tensorflow_stub\\dtypes.py:543: FutureWarning: Passing (type, 1) or '1type' as a synonym of type is deprecated; in a future version of numpy, it will be understood as (type, (1,)) / '(1,)type'.\n",
      "  _np_qint16 = np.dtype([(\"qint16\", np.int16, 1)])\n",
      "C:\\ProgramData\\Anaconda3\\lib\\site-packages\\tensorboard\\compat\\tensorflow_stub\\dtypes.py:544: FutureWarning: Passing (type, 1) or '1type' as a synonym of type is deprecated; in a future version of numpy, it will be understood as (type, (1,)) / '(1,)type'.\n",
      "  _np_quint16 = np.dtype([(\"quint16\", np.uint16, 1)])\n",
      "C:\\ProgramData\\Anaconda3\\lib\\site-packages\\tensorboard\\compat\\tensorflow_stub\\dtypes.py:545: FutureWarning: Passing (type, 1) or '1type' as a synonym of type is deprecated; in a future version of numpy, it will be understood as (type, (1,)) / '(1,)type'.\n",
      "  _np_qint32 = np.dtype([(\"qint32\", np.int32, 1)])\n",
      "C:\\ProgramData\\Anaconda3\\lib\\site-packages\\tensorboard\\compat\\tensorflow_stub\\dtypes.py:550: FutureWarning: Passing (type, 1) or '1type' as a synonym of type is deprecated; in a future version of numpy, it will be understood as (type, (1,)) / '(1,)type'.\n",
      "  np_resource = np.dtype([(\"resource\", np.ubyte, 1)])\n"
     ]
    }
   ],
   "source": [
    "import keras"
   ]
  },
  {
   "cell_type": "code",
   "execution_count": 2,
   "metadata": {},
   "outputs": [],
   "source": [
    "import keras\n",
    "import cv2\n",
    "import numpy as np\n",
    "import matplotlib\n",
    "import cv2\n",
    "import numpy as np"
   ]
  },
  {
   "cell_type": "code",
   "execution_count": 3,
   "metadata": {},
   "outputs": [],
   "source": [
    "def sketch(image):\n",
    "    # Convert image to grayscale\n",
    "    img_gray = cv2.cvtColor(image, cv2.COLOR_BGR2GRAY)\n",
    "    \n",
    "    # Clean up image using Guassian Blur\n",
    "    img_gray_blur = cv2.GaussianBlur(img_gray, (5,5), 0)\n",
    "    \n",
    "    # Extract edges\n",
    "    canny_edges = cv2.Canny(img_gray_blur, 30, 60)\n",
    "    \n",
    "    # Do an invert binarize the image \n",
    "    ret, mask = cv2.threshold(canny_edges, 240, 255, cv2.THRESH_BINARY_INV)\n",
    "    \n",
    "    return mask"
   ]
  },
  {
   "cell_type": "code",
   "execution_count": 4,
   "metadata": {},
   "outputs": [
    {
     "ename": "error",
     "evalue": "OpenCV(4.3.0) C:\\projects\\opencv-python\\opencv\\modules\\highgui\\src\\window.cpp:376: error: (-215:Assertion failed) size.width>0 && size.height>0 in function 'cv::imshow'\n",
     "output_type": "error",
     "traceback": [
      "\u001b[1;31m---------------------------------------------------------------------------\u001b[0m",
      "\u001b[1;31merror\u001b[0m                                     Traceback (most recent call last)",
      "\u001b[1;32m<ipython-input-4-919b05df0c96>\u001b[0m in \u001b[0;36m<module>\u001b[1;34m\u001b[0m\n\u001b[0;32m      5\u001b[0m     \u001b[0mret\u001b[0m\u001b[1;33m,\u001b[0m \u001b[0mframe\u001b[0m \u001b[1;33m=\u001b[0m \u001b[0mcap\u001b[0m\u001b[1;33m.\u001b[0m\u001b[0mread\u001b[0m\u001b[1;33m(\u001b[0m\u001b[1;33m)\u001b[0m\u001b[1;33m\u001b[0m\u001b[1;33m\u001b[0m\u001b[0m\n\u001b[0;32m      6\u001b[0m     \u001b[0mret1\u001b[0m\u001b[1;33m,\u001b[0m \u001b[0mframe1\u001b[0m \u001b[1;33m=\u001b[0m \u001b[0mcap2\u001b[0m\u001b[1;33m.\u001b[0m\u001b[0mread\u001b[0m\u001b[1;33m(\u001b[0m\u001b[1;33m)\u001b[0m\u001b[1;33m\u001b[0m\u001b[1;33m\u001b[0m\u001b[0m\n\u001b[1;32m----> 7\u001b[1;33m     \u001b[0mcv2\u001b[0m\u001b[1;33m.\u001b[0m\u001b[0mimshow\u001b[0m\u001b[1;33m(\u001b[0m\u001b[1;34m'Original'\u001b[0m\u001b[1;33m,\u001b[0m \u001b[1;33m(\u001b[0m\u001b[0mframe\u001b[0m\u001b[1;33m)\u001b[0m\u001b[1;33m)\u001b[0m\u001b[1;33m\u001b[0m\u001b[1;33m\u001b[0m\u001b[0m\n\u001b[0m\u001b[0;32m      8\u001b[0m     \u001b[0mcv2\u001b[0m\u001b[1;33m.\u001b[0m\u001b[0mimshow\u001b[0m\u001b[1;33m(\u001b[0m\u001b[1;34m'Our Live Sketcher'\u001b[0m\u001b[1;33m,\u001b[0m \u001b[0msketch\u001b[0m\u001b[1;33m(\u001b[0m\u001b[0mframe\u001b[0m\u001b[1;33m)\u001b[0m\u001b[1;33m)\u001b[0m\u001b[1;33m\u001b[0m\u001b[1;33m\u001b[0m\u001b[0m\n\u001b[0;32m      9\u001b[0m     \u001b[1;32mif\u001b[0m \u001b[0mcv2\u001b[0m\u001b[1;33m.\u001b[0m\u001b[0mwaitKey\u001b[0m\u001b[1;33m(\u001b[0m\u001b[1;36m1\u001b[0m\u001b[1;33m)\u001b[0m \u001b[1;33m==\u001b[0m \u001b[1;36m13\u001b[0m\u001b[1;33m:\u001b[0m \u001b[1;31m#13 is the Enter Key\u001b[0m\u001b[1;33m\u001b[0m\u001b[1;33m\u001b[0m\u001b[0m\n",
      "\u001b[1;31merror\u001b[0m: OpenCV(4.3.0) C:\\projects\\opencv-python\\opencv\\modules\\highgui\\src\\window.cpp:376: error: (-215:Assertion failed) size.width>0 && size.height>0 in function 'cv::imshow'\n"
     ]
    }
   ],
   "source": [
    "cap = cv2.VideoCapture(0)\n",
    "cap2 = cv2.VideoCapture(1)\n",
    "\n",
    "while True:\n",
    "    ret, frame = cap.read()\n",
    "    ret1, frame1 = cap2.read()\n",
    "    cv2.imshow('Original', (frame))\n",
    "    cv2.imshow('Our Live Sketcher', sketch(frame))\n",
    "    if cv2.waitKey(1) == 13: #13 is the Enter Key\n",
    "        break\n",
    "        \n",
    "# Release camera and close windows\n",
    "cap.release()\n",
    "cap2.release()\n",
    "cv2.destroyAllWindows()"
   ]
  },
  {
   "cell_type": "code",
   "execution_count": 5,
   "metadata": {},
   "outputs": [
    {
     "ename": "error",
     "evalue": "OpenCV(4.3.0) C:\\projects\\opencv-python\\opencv\\modules\\highgui\\src\\window.cpp:376: error: (-215:Assertion failed) size.width>0 && size.height>0 in function 'cv::imshow'\n",
     "output_type": "error",
     "traceback": [
      "\u001b[1;31m---------------------------------------------------------------------------\u001b[0m",
      "\u001b[1;31merror\u001b[0m                                     Traceback (most recent call last)",
      "\u001b[1;32m<ipython-input-5-919b05df0c96>\u001b[0m in \u001b[0;36m<module>\u001b[1;34m\u001b[0m\n\u001b[0;32m      5\u001b[0m     \u001b[0mret\u001b[0m\u001b[1;33m,\u001b[0m \u001b[0mframe\u001b[0m \u001b[1;33m=\u001b[0m \u001b[0mcap\u001b[0m\u001b[1;33m.\u001b[0m\u001b[0mread\u001b[0m\u001b[1;33m(\u001b[0m\u001b[1;33m)\u001b[0m\u001b[1;33m\u001b[0m\u001b[1;33m\u001b[0m\u001b[0m\n\u001b[0;32m      6\u001b[0m     \u001b[0mret1\u001b[0m\u001b[1;33m,\u001b[0m \u001b[0mframe1\u001b[0m \u001b[1;33m=\u001b[0m \u001b[0mcap2\u001b[0m\u001b[1;33m.\u001b[0m\u001b[0mread\u001b[0m\u001b[1;33m(\u001b[0m\u001b[1;33m)\u001b[0m\u001b[1;33m\u001b[0m\u001b[1;33m\u001b[0m\u001b[0m\n\u001b[1;32m----> 7\u001b[1;33m     \u001b[0mcv2\u001b[0m\u001b[1;33m.\u001b[0m\u001b[0mimshow\u001b[0m\u001b[1;33m(\u001b[0m\u001b[1;34m'Original'\u001b[0m\u001b[1;33m,\u001b[0m \u001b[1;33m(\u001b[0m\u001b[0mframe\u001b[0m\u001b[1;33m)\u001b[0m\u001b[1;33m)\u001b[0m\u001b[1;33m\u001b[0m\u001b[1;33m\u001b[0m\u001b[0m\n\u001b[0m\u001b[0;32m      8\u001b[0m     \u001b[0mcv2\u001b[0m\u001b[1;33m.\u001b[0m\u001b[0mimshow\u001b[0m\u001b[1;33m(\u001b[0m\u001b[1;34m'Our Live Sketcher'\u001b[0m\u001b[1;33m,\u001b[0m \u001b[0msketch\u001b[0m\u001b[1;33m(\u001b[0m\u001b[0mframe\u001b[0m\u001b[1;33m)\u001b[0m\u001b[1;33m)\u001b[0m\u001b[1;33m\u001b[0m\u001b[1;33m\u001b[0m\u001b[0m\n\u001b[0;32m      9\u001b[0m     \u001b[1;32mif\u001b[0m \u001b[0mcv2\u001b[0m\u001b[1;33m.\u001b[0m\u001b[0mwaitKey\u001b[0m\u001b[1;33m(\u001b[0m\u001b[1;36m1\u001b[0m\u001b[1;33m)\u001b[0m \u001b[1;33m==\u001b[0m \u001b[1;36m13\u001b[0m\u001b[1;33m:\u001b[0m \u001b[1;31m#13 is the Enter Key\u001b[0m\u001b[1;33m\u001b[0m\u001b[1;33m\u001b[0m\u001b[0m\n",
      "\u001b[1;31merror\u001b[0m: OpenCV(4.3.0) C:\\projects\\opencv-python\\opencv\\modules\\highgui\\src\\window.cpp:376: error: (-215:Assertion failed) size.width>0 && size.height>0 in function 'cv::imshow'\n"
     ]
    }
   ],
   "source": [
    "cap = cv2.VideoCapture(0)\n",
    "cap2 = cv2.VideoCapture(1)\n",
    "\n",
    "while True:\n",
    "    ret, frame = cap.read()\n",
    "    ret1, frame1 = cap2.read()\n",
    "    cv2.imshow('Original', (frame))\n",
    "    cv2.imshow('Our Live Sketcher', sketch(frame))\n",
    "    if cv2.waitKey(1) == 13: #13 is the Enter Key\n",
    "        break\n",
    "        \n",
    "# Release camera and close windows\n",
    "cap.release()\n",
    "cap2.release()\n",
    "cv2.destroyAllWindows()"
   ]
  },
  {
   "cell_type": "code",
   "execution_count": 6,
   "metadata": {},
   "outputs": [
    {
     "name": "stdout",
     "output_type": "stream",
     "text": [
      "\t\t   *Welcome to the Simple Webcam Application*\n",
      "\n",
      "Select a Feature:\n",
      "    Press 1 to Save Photo in Color Mode\n",
      "    Press 2 to Save Photo in Grayscale Mode\n",
      "    Press 3 to Save Photo in Blur Filter\n",
      "    Press 4 to Save Video Recording and Quit the Application\n",
      "\n"
     ]
    }
   ],
   "source": [
    "#Import Library\n",
    "import numpy as np\n",
    "import cv2\n",
    "\n",
    "#Write Menu\n",
    "print('\\t\\t   *Welcome to the Simple Webcam Application*\\n\\n'\n",
    "      'Select a Feature:\\n',\n",
    "      3*' ' + 'Press 1 to Save Photo in Color Mode\\n',\n",
    "      3*' ' + 'Press 2 to Save Photo in Grayscale Mode\\n',\n",
    "      3*' ' + 'Press 3 to Save Photo in Blur Filter\\n',\n",
    "      3*' ' + 'Press 4 to Save Video Recording and Quit the Application\\n')\n",
    "\n",
    "#Setting for Image Cap and Upper Value\n",
    "a = 0\n",
    "b = 0\n",
    "c = 0\n",
    "upper = [0,0,0]\n",
    "\n",
    "#Find HSV Green Value \n",
    "green = np.uint8([[[0,255,0]]])\n",
    "hsv_green = cv2.cvtColor(green,cv2.COLOR_BGR2HSV)\n",
    "\n",
    "#Found Upper Value\n",
    "for i in hsv_green:\n",
    "    for j in i:\n",
    "        upper[0] += (j[0])\n",
    "        upper[1] += (j[1])\n",
    "        upper[2] += (j[2])\n",
    "    for i in range (len(upper)):\n",
    "        if upper[i] == 255:\n",
    "            pass\n",
    "        else:\n",
    "            upper[i] += 20\n",
    "#Found Lower Value\n",
    "lower = upper.copy()\n",
    "for j in range (len(lower)):\n",
    "    if lower[j] == 255:\n",
    "        lower[j] = 10\n",
    "    else:\n",
    "        lower[j] -= 40\n",
    "\n",
    "#Open Default Camera\n",
    "cap = cv2.VideoCapture(0)\n",
    "\n",
    "#Define the Codec and Create VideoWriter Object\n",
    "fourcc = cv2.VideoWriter_fourcc(*'MJPG')\n",
    "vid = cv2.VideoWriter('Color Video.avi', fourcc, 20.0, (640,480))\n",
    "vid2 = cv2.VideoWriter('Green Video.avi', fourcc, 20.0, (640,480))\n",
    "\n",
    "while(cap.isOpened()):\n",
    "    #Take each Frame\n",
    "    ret, frame = cap.read()\n",
    "    #Flip Video vertically (180 Degrees)\n",
    "    frame = cv2.flip(frame, 180)\n",
    "    #Convert BGR to HSV\n",
    "    hsv = cv2.cvtColor(frame, cv2.COLOR_BGR2HSV)\n",
    "    #Define Range of Green Color in HSV\n",
    "    upper_green = np.array(upper)\n",
    "    lower_green = np.array(lower)\n",
    "    # Threshold the HSV Image to Get only Green Color\n",
    "    mask = cv2.inRange(hsv, lower_green, upper_green)   \n",
    "    result = cv2.bitwise_and(frame, frame, mask = mask)\n",
    "    #Showing Camera Cap\n",
    "    cv2.imshow('Detect Green Color',result)\n",
    "    cv2.imshow('Webcam',frame)\n",
    "    #Record Video\n",
    "    vid.write(frame)\n",
    "    vid2.write(result)\n",
    "    k = cv2.waitKey(1) & 0xFF\n",
    "    if k == 49: #ord 1\n",
    "        #Take a Photo\n",
    "        a += 1\n",
    "        colorName = \"Result {}.png\".format(a)\n",
    "        #Save Photo\n",
    "        cv2.imwrite(colorName, frame)\n",
    "    elif k == 50: #ord 2           \n",
    "        gray = cv2.cvtColor( frame, cv2.COLOR_BGR2GRAY )\n",
    "        b += 1\n",
    "        grayName = \"Grayscale {}.png\".format(b)\n",
    "        #Save Photo\n",
    "        cv2.imwrite(grayName, gray)\n",
    "    elif k == 51 : #ord 3\n",
    "        blur = cv2.blur(frame,(7,7))\n",
    "        c += 1\n",
    "        blurName = \"Blur {}.png\".format(c)\n",
    "        cv2.imwrite(blurName, blur)\n",
    "    elif k == 52 : #ord 4\n",
    "        #Quit\n",
    "        print ('Good Bye!')\n",
    "        break\n",
    "\n",
    "#Release the Cap and Video   \n",
    "cap.release()\n",
    "vid.release()\n",
    "vid2.release()\n",
    "cv2.destroyAllWindows()      "
   ]
  },
  {
   "cell_type": "code",
   "execution_count": 7,
   "metadata": {},
   "outputs": [
    {
     "data": {
      "text/plain": [
       "1"
      ]
     },
     "execution_count": 7,
     "metadata": {},
     "output_type": "execute_result"
    }
   ],
   "source": [
    "1"
   ]
  },
  {
   "cell_type": "code",
   "execution_count": 8,
   "metadata": {},
   "outputs": [
    {
     "name": "stdout",
     "output_type": "stream",
     "text": [
      "\t\t   *Welcome to the Simple Webcam Application*\n",
      "\n",
      "Select a Feature:\n",
      "    Press 1 to Save Photo in Color Mode\n",
      "    Press 2 to Save Photo in Grayscale Mode\n",
      "    Press 3 to Save Photo in Blur Filter\n",
      "    Press 4 to Save Video Recording and Quit the Application\n",
      "\n"
     ]
    }
   ],
   "source": [
    "#Import Library\n",
    "import numpy as np\n",
    "import cv2\n",
    "\n",
    "#Write Menu\n",
    "print('\\t\\t   *Welcome to the Simple Webcam Application*\\n\\n'\n",
    "      'Select a Feature:\\n',\n",
    "      3*' ' + 'Press 1 to Save Photo in Color Mode\\n',\n",
    "      3*' ' + 'Press 2 to Save Photo in Grayscale Mode\\n',\n",
    "      3*' ' + 'Press 3 to Save Photo in Blur Filter\\n',\n",
    "      3*' ' + 'Press 4 to Save Video Recording and Quit the Application\\n')\n",
    "\n",
    "#Setting for Image Cap and Upper Value\n",
    "a = 0\n",
    "b = 0\n",
    "c = 0\n",
    "upper = [0,0,0]\n",
    "\n",
    "#Find HSV Green Value \n",
    "green = np.uint8([[[0,255,0]]])\n",
    "hsv_green = cv2.cvtColor(green,cv2.COLOR_BGR2HSV)\n",
    "\n",
    "#Found Upper Value\n",
    "for i in hsv_green:\n",
    "    for j in i:\n",
    "        upper[0] += (j[0])\n",
    "        upper[1] += (j[1])\n",
    "        upper[2] += (j[2])\n",
    "    for i in range (len(upper)):\n",
    "        if upper[i] == 255:\n",
    "            pass\n",
    "        else:\n",
    "            upper[i] += 20\n",
    "#Found Lower Value\n",
    "lower = upper.copy()\n",
    "for j in range (len(lower)):\n",
    "    if lower[j] == 255:\n",
    "        lower[j] = 10\n",
    "    else:\n",
    "        lower[j] -= 40\n",
    "\n",
    "#Open Default Camera\n",
    "cap = cv2.VideoCapture(0)\n",
    "\n",
    "#Define the Codec and Create VideoWriter Object\n",
    "fourcc = cv2.VideoWriter_fourcc(*'MJPG')\n",
    "vid = cv2.VideoWriter('Color Video.avi', fourcc, 20.0, (640,480))\n",
    "vid2 = cv2.VideoWriter('Green Video.avi', fourcc, 20.0, (640,480))\n",
    "\n",
    "while(cap.isOpened()):\n",
    "    #Take each Frame\n",
    "    ret, frame = cap.read()\n",
    "    #Flip Video vertically (180 Degrees)\n",
    "    frame = cv2.flip(frame, 180)\n",
    "    #Convert BGR to HSV\n",
    "    hsv = cv2.cvtColor(frame, cv2.COLOR_BGR2HSV)\n",
    "    #Define Range of Green Color in HSV\n",
    "    upper_green = np.array(upper)\n",
    "    lower_green = np.array(lower)\n",
    "    # Threshold the HSV Image to Get only Green Color\n",
    "    mask = cv2.inRange(hsv, lower_green, upper_green)   \n",
    "    result = cv2.bitwise_and(frame, frame, mask = mask)\n",
    "    #Showing Camera Cap\n",
    "    cv2.imshow('Detect Green Color',result)\n",
    "    cv2.imshow('Webcam',frame)\n",
    "    #Record Video\n",
    "    vid.write(frame)\n",
    "    vid2.write(result)\n",
    "    k = cv2.waitKey(1) & 0xFF\n",
    "    if k == 49: #ord 1\n",
    "        #Take a Photo\n",
    "        a += 1\n",
    "        colorName = \"Result {}.png\".format(a)\n",
    "        #Save Photo\n",
    "        cv2.imwrite(colorName, frame)\n",
    "    elif k == 50: #ord 2           \n",
    "        gray = cv2.cvtColor( frame, cv2.COLOR_BGR2GRAY )\n",
    "        b += 1\n",
    "        grayName = \"Grayscale {}.png\".format(b)\n",
    "        #Save Photo\n",
    "        cv2.imwrite(grayName, gray)\n",
    "    elif k == 51 : #ord 3\n",
    "        blur = cv2.blur(frame,(7,7))\n",
    "        c += 1\n",
    "        blurName = \"Blur {}.png\".format(c)\n",
    "        cv2.imwrite(blurName, blur)\n",
    "    elif k == 52 : #ord 4\n",
    "        #Quit\n",
    "        print ('Good Bye!')\n",
    "        break\n",
    "\n",
    "#Release the Cap and Video   \n",
    "cap.release()\n",
    "vid.release()\n",
    "vid2.release()\n",
    "cv2.destroyAllWindows()      "
   ]
  },
  {
   "cell_type": "code",
   "execution_count": null,
   "metadata": {},
   "outputs": [],
   "source": [
    "4\n"
   ]
  }
 ],
 "metadata": {
  "kernelspec": {
   "display_name": "Python 3",
   "language": "python",
   "name": "python3"
  },
  "language_info": {
   "codemirror_mode": {
    "name": "ipython",
    "version": 3
   },
   "file_extension": ".py",
   "mimetype": "text/x-python",
   "name": "python",
   "nbconvert_exporter": "python",
   "pygments_lexer": "ipython3",
   "version": "3.7.6"
  }
 },
 "nbformat": 4,
 "nbformat_minor": 4
}
